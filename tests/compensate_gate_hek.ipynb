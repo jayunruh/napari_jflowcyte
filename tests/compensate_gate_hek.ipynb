{
 "cells": [
  {
   "cell_type": "markdown",
   "id": "b9c562f9",
   "metadata": {},
   "source": [
    "Here is an attempt and compensating and pregating."
   ]
  },
  {
   "cell_type": "code",
   "execution_count": 1,
   "id": "76bf79de",
   "metadata": {},
   "outputs": [],
   "source": [
    "import sys\n",
    "sys.path.append('../')\n",
    "import compensateflowcyte as cfc\n",
    "import gateflowcyte as gfc\n",
    "import matplotlib.pyplot as plt\n",
    "import pandas as pd\n",
    "import numpy as np"
   ]
  },
  {
   "cell_type": "code",
   "execution_count": 2,
   "id": "4e906408",
   "metadata": {},
   "outputs": [
    {
     "name": "stdout",
     "output_type": "stream",
     "text": [
      "FCS3.1\n",
      "[58, 3596, 3597, 14212477, 0, 0]\n",
      "5\n"
     ]
    }
   ],
   "source": [
    "comp,cmeta=cfc.getCompensated('hek_A1.fcs')"
   ]
  },
  {
   "cell_type": "code",
   "execution_count": 3,
   "id": "61e9450a",
   "metadata": {},
   "outputs": [
    {
     "data": {
      "text/html": [
       "<div>\n",
       "<style scoped>\n",
       "    .dataframe tbody tr th:only-of-type {\n",
       "        vertical-align: middle;\n",
       "    }\n",
       "\n",
       "    .dataframe tbody tr th {\n",
       "        vertical-align: top;\n",
       "    }\n",
       "\n",
       "    .dataframe thead th {\n",
       "        text-align: right;\n",
       "    }\n",
       "</style>\n",
       "<table border=\"1\" class=\"dataframe\">\n",
       "  <thead>\n",
       "    <tr style=\"text-align: right;\">\n",
       "      <th></th>\n",
       "      <th>T0</th>\n",
       "      <th>T1</th>\n",
       "      <th>INFO</th>\n",
       "      <th>FS00-H</th>\n",
       "      <th>FS00-A</th>\n",
       "      <th>FS00-W</th>\n",
       "      <th>FS01-H</th>\n",
       "      <th>FS01-A</th>\n",
       "      <th>FS01-W</th>\n",
       "      <th>SS02-H</th>\n",
       "      <th>...</th>\n",
       "      <th>FL10-H</th>\n",
       "      <th>FL10-A</th>\n",
       "      <th>FL10-W</th>\n",
       "      <th>FL13-H</th>\n",
       "      <th>FL13-A</th>\n",
       "      <th>FL13-W</th>\n",
       "      <th>FL17-H</th>\n",
       "      <th>FL17-A</th>\n",
       "      <th>FL17-W</th>\n",
       "      <th>TIME</th>\n",
       "    </tr>\n",
       "  </thead>\n",
       "  <tbody>\n",
       "    <tr>\n",
       "      <th>0</th>\n",
       "      <td>1012204876</td>\n",
       "      <td>0</td>\n",
       "      <td>-52992</td>\n",
       "      <td>7861248</td>\n",
       "      <td>8659712</td>\n",
       "      <td>644775936</td>\n",
       "      <td>146055680</td>\n",
       "      <td>150799360</td>\n",
       "      <td>612302848</td>\n",
       "      <td>2384128</td>\n",
       "      <td>...</td>\n",
       "      <td>47616</td>\n",
       "      <td>19906.719254</td>\n",
       "      <td>54591488</td>\n",
       "      <td>9472</td>\n",
       "      <td>15104.0</td>\n",
       "      <td>40140800</td>\n",
       "      <td>22528</td>\n",
       "      <td>15872.0</td>\n",
       "      <td>49774592</td>\n",
       "      <td>2024410</td>\n",
       "    </tr>\n",
       "    <tr>\n",
       "      <th>1</th>\n",
       "      <td>1012205584</td>\n",
       "      <td>0</td>\n",
       "      <td>-52992</td>\n",
       "      <td>7292672</td>\n",
       "      <td>7603200</td>\n",
       "      <td>600637440</td>\n",
       "      <td>111274240</td>\n",
       "      <td>110981632</td>\n",
       "      <td>594706432</td>\n",
       "      <td>420864</td>\n",
       "      <td>...</td>\n",
       "      <td>284928</td>\n",
       "      <td>131527.708222</td>\n",
       "      <td>182878208</td>\n",
       "      <td>211968</td>\n",
       "      <td>100608.0</td>\n",
       "      <td>114819072</td>\n",
       "      <td>13568</td>\n",
       "      <td>18688.0</td>\n",
       "      <td>63012864</td>\n",
       "      <td>2024411</td>\n",
       "    </tr>\n",
       "    <tr>\n",
       "      <th>2</th>\n",
       "      <td>1012206410</td>\n",
       "      <td>0</td>\n",
       "      <td>-52992</td>\n",
       "      <td>4016640</td>\n",
       "      <td>4094464</td>\n",
       "      <td>545390592</td>\n",
       "      <td>120256000</td>\n",
       "      <td>119805440</td>\n",
       "      <td>574160896</td>\n",
       "      <td>1079296</td>\n",
       "      <td>...</td>\n",
       "      <td>64512</td>\n",
       "      <td>24777.926223</td>\n",
       "      <td>112394240</td>\n",
       "      <td>31488</td>\n",
       "      <td>18176.0</td>\n",
       "      <td>112689152</td>\n",
       "      <td>11264</td>\n",
       "      <td>14336.0</td>\n",
       "      <td>28934144</td>\n",
       "      <td>2024413</td>\n",
       "    </tr>\n",
       "    <tr>\n",
       "      <th>3</th>\n",
       "      <td>1012208675</td>\n",
       "      <td>0</td>\n",
       "      <td>-52992</td>\n",
       "      <td>4037632</td>\n",
       "      <td>4253952</td>\n",
       "      <td>598278144</td>\n",
       "      <td>23332608</td>\n",
       "      <td>27854848</td>\n",
       "      <td>659324928</td>\n",
       "      <td>713216</td>\n",
       "      <td>...</td>\n",
       "      <td>212992</td>\n",
       "      <td>61360.618885</td>\n",
       "      <td>109871104</td>\n",
       "      <td>138496</td>\n",
       "      <td>73472.0</td>\n",
       "      <td>108167168</td>\n",
       "      <td>2816</td>\n",
       "      <td>12544.0</td>\n",
       "      <td>27394048</td>\n",
       "      <td>2024417</td>\n",
       "    </tr>\n",
       "    <tr>\n",
       "      <th>4</th>\n",
       "      <td>1012211347</td>\n",
       "      <td>0</td>\n",
       "      <td>-52992</td>\n",
       "      <td>2543104</td>\n",
       "      <td>2561024</td>\n",
       "      <td>551321600</td>\n",
       "      <td>26640896</td>\n",
       "      <td>28141312</td>\n",
       "      <td>606273536</td>\n",
       "      <td>1059072</td>\n",
       "      <td>...</td>\n",
       "      <td>74496</td>\n",
       "      <td>44223.841791</td>\n",
       "      <td>170754048</td>\n",
       "      <td>28416</td>\n",
       "      <td>18944.0</td>\n",
       "      <td>111575040</td>\n",
       "      <td>11008</td>\n",
       "      <td>14336.0</td>\n",
       "      <td>36274176</td>\n",
       "      <td>2024423</td>\n",
       "    </tr>\n",
       "  </tbody>\n",
       "</table>\n",
       "<p>5 rows × 28 columns</p>\n",
       "</div>"
      ],
      "text/plain": [
       "           T0  T1   INFO   FS00-H   FS00-A     FS00-W     FS01-H     FS01-A  \\\n",
       "0  1012204876   0 -52992  7861248  8659712  644775936  146055680  150799360   \n",
       "1  1012205584   0 -52992  7292672  7603200  600637440  111274240  110981632   \n",
       "2  1012206410   0 -52992  4016640  4094464  545390592  120256000  119805440   \n",
       "3  1012208675   0 -52992  4037632  4253952  598278144   23332608   27854848   \n",
       "4  1012211347   0 -52992  2543104  2561024  551321600   26640896   28141312   \n",
       "\n",
       "      FS01-W   SS02-H  ...  FL10-H         FL10-A     FL10-W  FL13-H  \\\n",
       "0  612302848  2384128  ...   47616   19906.719254   54591488    9472   \n",
       "1  594706432   420864  ...  284928  131527.708222  182878208  211968   \n",
       "2  574160896  1079296  ...   64512   24777.926223  112394240   31488   \n",
       "3  659324928   713216  ...  212992   61360.618885  109871104  138496   \n",
       "4  606273536  1059072  ...   74496   44223.841791  170754048   28416   \n",
       "\n",
       "     FL13-A     FL13-W  FL17-H   FL17-A    FL17-W     TIME  \n",
       "0   15104.0   40140800   22528  15872.0  49774592  2024410  \n",
       "1  100608.0  114819072   13568  18688.0  63012864  2024411  \n",
       "2   18176.0  112689152   11264  14336.0  28934144  2024413  \n",
       "3   73472.0  108167168    2816  12544.0  27394048  2024417  \n",
       "4   18944.0  111575040   11008  14336.0  36274176  2024423  \n",
       "\n",
       "[5 rows x 28 columns]"
      ]
     },
     "execution_count": 3,
     "metadata": {},
     "output_type": "execute_result"
    }
   ],
   "source": [
    "comp.head()"
   ]
  },
  {
   "cell_type": "code",
   "execution_count": 4,
   "id": "9d2de4e2",
   "metadata": {},
   "outputs": [
    {
     "data": {
      "text/plain": [
       "Index(['T0', 'T1', 'INFO', 'FS00-H', 'FS00-A', 'FS00-W', 'FS01-H', 'FS01-A',\n",
       "       'FS01-W', 'SS02-H', 'SS02-A', 'SS02-W', 'FL03-H', 'FL03-A', 'FL03-W',\n",
       "       'FL04-H', 'FL04-A', 'FL04-W', 'FL10-H', 'FL10-A', 'FL10-W', 'FL13-H',\n",
       "       'FL13-A', 'FL13-W', 'FL17-H', 'FL17-A', 'FL17-W', 'TIME'],\n",
       "      dtype='object')"
      ]
     },
     "execution_count": 4,
     "metadata": {},
     "output_type": "execute_result"
    }
   ],
   "source": [
    "comp.columns"
   ]
  },
  {
   "cell_type": "code",
   "execution_count": 5,
   "id": "6d1d42e7",
   "metadata": {
    "scrolled": true
   },
   "outputs": [
    {
     "data": {
      "image/png": "[encoded data removed]",
      "text/plain": [
       "<Figure size 432x288 with 1 Axes>"
      ]
     },
     "metadata": {
      "needs_background": "light"
     },
     "output_type": "display_data"
    }
   ],
   "source": [
    "#now need to do the scatter gate (SS02-A vs. FS00-A)\n",
    "plt.scatter(comp['FS00-H'],comp['SS02-H'],s=1)\n",
    "plt.xscale('log')\n",
    "plt.yscale('log')\n",
    "plt.xlim(1e6,1e9)\n",
    "plt.ylim(1e4,1e10)\n",
    "plt.show()"
   ]
  },
  {
   "cell_type": "code",
   "execution_count": 6,
   "id": "68be4d80",
   "metadata": {},
   "outputs": [],
   "source": [
    "#show this plot in napari, will create the viewer as well\n",
    "fig,figimg,viewer=gfc.addNapariHist(comp,'FS00-H','SS02-H',limits=[1e7,1e9,1e7,1e9],logs=[True,True],multiplier=2.0)"
   ]
  },
  {
   "cell_type": "code",
   "execution_count": 20,
   "id": "b81ce05d",
   "metadata": {},
   "outputs": [
    {
     "data": {
      "text/plain": [
       "array([[ 761.30837409,  417.46557897],\n",
       "       [ 759.28576948,  995.93049717],\n",
       "       [ 194.97908355, 1001.998311  ],\n",
       "       [ 197.00168815,  415.44297436]])"
      ]
     },
     "execution_count": 20,
     "metadata": {},
     "output_type": "execute_result"
    }
   ],
   "source": [
    "#once the gate is added it will be in the data object from the last layer\n",
    "scattergate=viewer.layers[-1].data[0]\n",
    "scattergate"
   ]
  },
  {
   "cell_type": "code",
   "execution_count": 8,
   "id": "f7dab465",
   "metadata": {},
   "outputs": [],
   "source": [
    "#copy the gate from the cell above so we can skip the interactive part if we already have the gates defined\n",
    "scattergate=np.array([[ 761.30837409,  417.46557897],\n",
    "       [ 759.28576948,  995.93049717],\n",
    "       [ 194.97908355, 1001.998311  ],\n",
    "       [ 197.00168815,  415.44297436]])"
   ]
  },
  {
   "cell_type": "code",
   "execution_count": 9,
   "id": "8df7e207",
   "metadata": {},
   "outputs": [
    {
     "name": "stdout",
     "output_type": "stream",
     "text": [
      "7.14617900918299% scatter gate\n"
     ]
    }
   ],
   "source": [
    "inscatgate,_,_=gfc.plotGateContains(comp['FS00-H'],comp['SS02-H'],scattergate,limits=[1e7,1e9,1e7,1e9],logs=[True,True])\n",
    "fgate=(np.array(inscatgate).sum()/len(inscatgate))\n",
    "print(str(fgate*100)+'% scatter gate')"
   ]
  },
  {
   "cell_type": "code",
   "execution_count": 10,
   "id": "26b44497",
   "metadata": {},
   "outputs": [
    {
     "data": {
      "image/png": "[encoded data removed]",
      "text/plain": [
       "<Figure size 600x400 with 1 Axes>"
      ]
     },
     "execution_count": 10,
     "metadata": {},
     "output_type": "execute_result"
    }
   ],
   "source": [
    "#if we want we can draw the figure with the gate on it here\n",
    "overfig,overimg=gfc.overlayImageGate(figimg,scattergate)\n",
    "overfig.set_dpi(100)\n",
    "overfig"
   ]
  },
  {
   "cell_type": "code",
   "execution_count": 11,
   "id": "e572952a",
   "metadata": {},
   "outputs": [],
   "source": [
    "#now draw the image to get the single cell gate\n",
    "_,figimg,_=gfc.addNapariHist(comp,'FS00-W','FS00-H',limits=[2e8,5e9,1e6,2e9],logs=[True,True],viewer=viewer)"
   ]
  },
  {
   "cell_type": "code",
   "execution_count": 27,
   "id": "9a4d678b",
   "metadata": {},
   "outputs": [
    {
     "data": {
      "text/plain": [
       "array([[621.74865606, 461.96288037],\n",
       "       [617.70344685, 900.86808055],\n",
       "       [283.97368635, 898.84547594],\n",
       "       [285.99629095, 453.87246194]])"
      ]
     },
     "execution_count": 27,
     "metadata": {},
     "output_type": "execute_result"
    }
   ],
   "source": [
    "viewer.layers[-1].data[0]"
   ]
  },
  {
   "cell_type": "code",
   "execution_count": 12,
   "id": "bcf94723",
   "metadata": {},
   "outputs": [],
   "source": [
    "scgate=np.array([[621.74865606, 461.96288037],\n",
    "       [617.70344685, 900.86808055],\n",
    "       [283.97368635, 898.84547594],\n",
    "       [285.99629095, 453.87246194]])"
   ]
  },
  {
   "cell_type": "code",
   "execution_count": 13,
   "id": "04f5c582",
   "metadata": {},
   "outputs": [
    {
     "name": "stdout",
     "output_type": "stream",
     "text": [
      "7.5458164190281005% single cell gate\n"
     ]
    }
   ],
   "source": [
    "inscgate,_,_=gfc.plotGateContains(comp['FS00-W'],comp['FS00-H'],scgate,limits=[2e8,5e9,1e6,2e9],logs=[True,True])\n",
    "fgate=(np.array(inscgate).sum()/len(inscgate))\n",
    "print(str(fgate*100)+'% single cell gate')"
   ]
  },
  {
   "cell_type": "code",
   "execution_count": 14,
   "id": "01fbd67d",
   "metadata": {},
   "outputs": [],
   "source": [
    "#now draw the image to get the second single cell gate\n",
    "_,figimg,_=gfc.addNapariHist(comp,'SS02-W','SS02-H',limits=[1e8,5e9,1e7,5e9],logs=[True,True],viewer=viewer)"
   ]
  },
  {
   "cell_type": "code",
   "execution_count": 34,
   "id": "67cbfade",
   "metadata": {},
   "outputs": [
    {
     "data": {
      "text/plain": [
       "array([[385.1039168 , 680.40417816],\n",
       "       [906.93590595, 815.91868696],\n",
       "       [898.84548751, 435.66902045],\n",
       "       [585.3417731 , 425.55599741],\n",
       "       [399.26214906, 506.46018177]])"
      ]
     },
     "execution_count": 34,
     "metadata": {},
     "output_type": "execute_result"
    }
   ],
   "source": [
    "viewer.layers[-1].data[0]"
   ]
  },
  {
   "cell_type": "code",
   "execution_count": 15,
   "id": "94e6b874",
   "metadata": {},
   "outputs": [],
   "source": [
    "scgate2=np.array([[385.1039168 , 680.40417816],\n",
    "       [906.93590595, 815.91868696],\n",
    "       [898.84548751, 435.66902045],\n",
    "       [585.3417731 , 425.55599741],\n",
    "       [399.26214906, 506.46018177]])"
   ]
  },
  {
   "cell_type": "code",
   "execution_count": 16,
   "id": "df34e16c",
   "metadata": {},
   "outputs": [
    {
     "name": "stdout",
     "output_type": "stream",
     "text": [
      "6.128561857092184% single cell2 gate\n"
     ]
    }
   ],
   "source": [
    "insc2gate,_,_=gfc.plotGateContains(comp['SS02-W'],comp['SS02-H'],scgate2,limits=[1e8,5e9,1e7,5e9],logs=[True,True])\n",
    "fgate=(np.array(insc2gate).sum()/len(insc2gate))\n",
    "print(str(fgate*100)+'% single cell2 gate')"
   ]
  },
  {
   "cell_type": "code",
   "execution_count": 21,
   "id": "eca28a2d",
   "metadata": {},
   "outputs": [],
   "source": [
    "#now draw the image to get the expressing gate\n",
    "_,figimg,_=gfc.addNapariHist(comp,'FL03-A','FL10-A',limits=[2e4,5e9,5e3,5e9],logs=[True,True],viewer=viewer,multiplier=4.0)"
   ]
  },
  {
   "cell_type": "code",
   "execution_count": 46,
   "id": "390b1a40",
   "metadata": {},
   "outputs": [
    {
     "data": {
      "text/plain": [
       "array([[ 502.41498413,  538.82185552],\n",
       "       [ 690.51721277,  474.09850803],\n",
       "       [ 730.96930496,  520.61841404],\n",
       "       [ 520.61842561,  795.69264087],\n",
       "       [ 259.70243104, 1020.20175248],\n",
       "       [ 178.79824667, 1008.06612483],\n",
       "       [ 201.04689737,  791.64743166]])"
      ]
     },
     "execution_count": 46,
     "metadata": {},
     "output_type": "execute_result"
    }
   ],
   "source": [
    "viewer.layers[-1].data[0]"
   ]
  },
  {
   "cell_type": "code",
   "execution_count": 18,
   "id": "049262b8",
   "metadata": {},
   "outputs": [],
   "source": [
    "expgate=np.array([[ 502.41498413,  538.82185552],\n",
    "       [ 690.51721277,  474.09850803],\n",
    "       [ 730.96930496,  520.61841404],\n",
    "       [ 520.61842561,  795.69264087],\n",
    "       [ 259.70243104, 1020.20175248],\n",
    "       [ 178.79824667, 1008.06612483],\n",
    "       [ 201.04689737,  791.64743166]])"
   ]
  },
  {
   "cell_type": "code",
   "execution_count": 20,
   "id": "a02a17f0",
   "metadata": {},
   "outputs": [
    {
     "name": "stderr",
     "output_type": "stream",
     "text": [
      "C:\\Users\\jru\\Miniconda3\\envs\\naparienv\\lib\\site-packages\\pandas\\core\\arraylike.py:358: RuntimeWarning: invalid value encountered in log\n",
      "  result = getattr(ufunc, method)(*inputs, **kwargs)\n",
      "C:\\Users\\jru\\Miniconda3\\envs\\naparienv\\lib\\site-packages\\pandas\\core\\arraylike.py:358: RuntimeWarning: invalid value encountered in log\n",
      "  result = getattr(ufunc, method)(*inputs, **kwargs)\n"
     ]
    }
   ],
   "source": [
    "inexpgate,_,_=gfc.plotGateContains(comp['FL03-A'],comp['FL10-A'],expgate,limits=[2e4,5e9,5e3,5e9],logs=[True,True])"
   ]
  },
  {
   "cell_type": "code",
   "execution_count": 19,
   "id": "c1bb792c",
   "metadata": {
    "scrolled": true
   },
   "outputs": [
    {
     "name": "stdout",
     "output_type": "stream",
     "text": [
      "(4840, 28)\n"
     ]
    },
    {
     "data": {
      "text/html": [
       "<div>\n",
       "<style scoped>\n",
       "    .dataframe tbody tr th:only-of-type {\n",
       "        vertical-align: middle;\n",
       "    }\n",
       "\n",
       "    .dataframe tbody tr th {\n",
       "        vertical-align: top;\n",
       "    }\n",
       "\n",
       "    .dataframe thead th {\n",
       "        text-align: right;\n",
       "    }\n",
       "</style>\n",
       "<table border=\"1\" class=\"dataframe\">\n",
       "  <thead>\n",
       "    <tr style=\"text-align: right;\">\n",
       "      <th></th>\n",
       "      <th>T0</th>\n",
       "      <th>T1</th>\n",
       "      <th>INFO</th>\n",
       "      <th>FS00-H</th>\n",
       "      <th>FS00-A</th>\n",
       "      <th>FS00-W</th>\n",
       "      <th>FS01-H</th>\n",
       "      <th>FS01-A</th>\n",
       "      <th>FS01-W</th>\n",
       "      <th>SS02-H</th>\n",
       "      <th>...</th>\n",
       "      <th>FL10-H</th>\n",
       "      <th>FL10-A</th>\n",
       "      <th>FL10-W</th>\n",
       "      <th>FL13-H</th>\n",
       "      <th>FL13-A</th>\n",
       "      <th>FL13-W</th>\n",
       "      <th>FL17-H</th>\n",
       "      <th>FL17-A</th>\n",
       "      <th>FL17-W</th>\n",
       "      <th>TIME</th>\n",
       "    </tr>\n",
       "  </thead>\n",
       "  <tbody>\n",
       "    <tr>\n",
       "      <th>9</th>\n",
       "      <td>1012224474</td>\n",
       "      <td>0</td>\n",
       "      <td>-52992</td>\n",
       "      <td>60214784</td>\n",
       "      <td>116772096</td>\n",
       "      <td>1216479232</td>\n",
       "      <td>1217604096</td>\n",
       "      <td>1949363968</td>\n",
       "      <td>830504960</td>\n",
       "      <td>86087424</td>\n",
       "      <td>...</td>\n",
       "      <td>139215872</td>\n",
       "      <td>2.121834e+08</td>\n",
       "      <td>950927360</td>\n",
       "      <td>72216832</td>\n",
       "      <td>111305984.0</td>\n",
       "      <td>947159040</td>\n",
       "      <td>119296</td>\n",
       "      <td>92672.0</td>\n",
       "      <td>218136576</td>\n",
       "      <td>2024449</td>\n",
       "    </tr>\n",
       "    <tr>\n",
       "      <th>21</th>\n",
       "      <td>1012265582</td>\n",
       "      <td>0</td>\n",
       "      <td>-52992</td>\n",
       "      <td>112928000</td>\n",
       "      <td>181295360</td>\n",
       "      <td>1017446400</td>\n",
       "      <td>1138888448</td>\n",
       "      <td>1879289088</td>\n",
       "      <td>1033502720</td>\n",
       "      <td>158792192</td>\n",
       "      <td>...</td>\n",
       "      <td>2745088</td>\n",
       "      <td>4.248692e+06</td>\n",
       "      <td>948961280</td>\n",
       "      <td>2611712</td>\n",
       "      <td>3800064.0</td>\n",
       "      <td>991461376</td>\n",
       "      <td>750848</td>\n",
       "      <td>1082368.0</td>\n",
       "      <td>805699584</td>\n",
       "      <td>2024531</td>\n",
       "    </tr>\n",
       "    <tr>\n",
       "      <th>27</th>\n",
       "      <td>1012271345</td>\n",
       "      <td>0</td>\n",
       "      <td>-52992</td>\n",
       "      <td>171731456</td>\n",
       "      <td>302254848</td>\n",
       "      <td>939917312</td>\n",
       "      <td>1418115328</td>\n",
       "      <td>2147483392</td>\n",
       "      <td>1590362112</td>\n",
       "      <td>295883264</td>\n",
       "      <td>...</td>\n",
       "      <td>83762944</td>\n",
       "      <td>1.042025e+08</td>\n",
       "      <td>747470848</td>\n",
       "      <td>46308608</td>\n",
       "      <td>57167616.0</td>\n",
       "      <td>772931584</td>\n",
       "      <td>526336</td>\n",
       "      <td>818944.0</td>\n",
       "      <td>1001750528</td>\n",
       "      <td>2024543</td>\n",
       "    </tr>\n",
       "    <tr>\n",
       "      <th>39</th>\n",
       "      <td>1012304580</td>\n",
       "      <td>0</td>\n",
       "      <td>-52992</td>\n",
       "      <td>221047808</td>\n",
       "      <td>430450176</td>\n",
       "      <td>675840000</td>\n",
       "      <td>1288966656</td>\n",
       "      <td>2147483392</td>\n",
       "      <td>1003225088</td>\n",
       "      <td>218920704</td>\n",
       "      <td>...</td>\n",
       "      <td>267275776</td>\n",
       "      <td>6.794811e+08</td>\n",
       "      <td>1723072512</td>\n",
       "      <td>142454784</td>\n",
       "      <td>10240.0</td>\n",
       "      <td>1705017344</td>\n",
       "      <td>464384</td>\n",
       "      <td>10240.0</td>\n",
       "      <td>732987392</td>\n",
       "      <td>2024609</td>\n",
       "    </tr>\n",
       "    <tr>\n",
       "      <th>44</th>\n",
       "      <td>1012318698</td>\n",
       "      <td>0</td>\n",
       "      <td>-52992</td>\n",
       "      <td>194102272</td>\n",
       "      <td>344909568</td>\n",
       "      <td>889651200</td>\n",
       "      <td>1428677120</td>\n",
       "      <td>2147483392</td>\n",
       "      <td>1770160128</td>\n",
       "      <td>238965248</td>\n",
       "      <td>...</td>\n",
       "      <td>2097152</td>\n",
       "      <td>3.178885e+06</td>\n",
       "      <td>772898816</td>\n",
       "      <td>1510656</td>\n",
       "      <td>2674944.0</td>\n",
       "      <td>1283522560</td>\n",
       "      <td>269824</td>\n",
       "      <td>457728.0</td>\n",
       "      <td>560922624</td>\n",
       "      <td>2024637</td>\n",
       "    </tr>\n",
       "  </tbody>\n",
       "</table>\n",
       "<p>5 rows × 28 columns</p>\n",
       "</div>"
      ],
      "text/plain": [
       "            T0  T1   INFO     FS00-H     FS00-A      FS00-W      FS01-H  \\\n",
       "9   1012224474   0 -52992   60214784  116772096  1216479232  1217604096   \n",
       "21  1012265582   0 -52992  112928000  181295360  1017446400  1138888448   \n",
       "27  1012271345   0 -52992  171731456  302254848   939917312  1418115328   \n",
       "39  1012304580   0 -52992  221047808  430450176   675840000  1288966656   \n",
       "44  1012318698   0 -52992  194102272  344909568   889651200  1428677120   \n",
       "\n",
       "        FS01-A      FS01-W     SS02-H  ...     FL10-H        FL10-A  \\\n",
       "9   1949363968   830504960   86087424  ...  139215872  2.121834e+08   \n",
       "21  1879289088  1033502720  158792192  ...    2745088  4.248692e+06   \n",
       "27  2147483392  1590362112  295883264  ...   83762944  1.042025e+08   \n",
       "39  2147483392  1003225088  218920704  ...  267275776  6.794811e+08   \n",
       "44  2147483392  1770160128  238965248  ...    2097152  3.178885e+06   \n",
       "\n",
       "        FL10-W     FL13-H       FL13-A      FL13-W  FL17-H     FL17-A  \\\n",
       "9    950927360   72216832  111305984.0   947159040  119296    92672.0   \n",
       "21   948961280    2611712    3800064.0   991461376  750848  1082368.0   \n",
       "27   747470848   46308608   57167616.0   772931584  526336   818944.0   \n",
       "39  1723072512  142454784      10240.0  1705017344  464384    10240.0   \n",
       "44   772898816    1510656    2674944.0  1283522560  269824   457728.0   \n",
       "\n",
       "        FL17-W     TIME  \n",
       "9    218136576  2024449  \n",
       "21   805699584  2024531  \n",
       "27  1001750528  2024543  \n",
       "39   732987392  2024609  \n",
       "44   560922624  2024637  \n",
       "\n",
       "[5 rows x 28 columns]"
      ]
     },
     "execution_count": 19,
     "metadata": {},
     "output_type": "execute_result"
    }
   ],
   "source": [
    "inallgates=np.array(inscatgate) & np.array(inscgate) & np.array(insc2gate) & np.array(inexpgate)\n",
    "gated=comp[inallgates].copy()\n",
    "print(gated.shape)\n",
    "gated.head()"
   ]
  },
  {
   "cell_type": "code",
   "execution_count": 20,
   "id": "6e79c9a5",
   "metadata": {},
   "outputs": [],
   "source": [
    "cfc.saveDF('hek_pycompgate.fcs',gated,cmeta)"
   ]
  },
  {
   "cell_type": "code",
   "execution_count": 21,
   "id": "c2a0200d",
   "metadata": {},
   "outputs": [],
   "source": [
    "gated['FRET']=gated['FL04-A']/gated['FL10-A']\n",
    "gated['Acceptor']=gated['FL10-A']/1000000.0"
   ]
  },
  {
   "cell_type": "code",
   "execution_count": 22,
   "id": "1d4a8b20",
   "metadata": {},
   "outputs": [],
   "source": [
    "fig,figimg=gfc.drawHist(gated,'Acceptor','FRET',limits=[1,10000,-0.2,1],logs=[True,False])"
   ]
  },
  {
   "cell_type": "code",
   "execution_count": 23,
   "id": "8e3e9614",
   "metadata": {},
   "outputs": [
    {
     "data": {
      "image/png": "[encoded data removed]",
      "text/plain": [
       "<Figure size 400x400 with 1 Axes>"
      ]
     },
     "execution_count": 23,
     "metadata": {},
     "output_type": "execute_result"
    }
   ],
   "source": [
    "fig.set_dpi(100)\n",
    "fig"
   ]
  },
  {
   "cell_type": "code",
   "execution_count": null,
   "id": "e09b6187",
   "metadata": {},
   "outputs": [],
   "source": []
  }
 ],
 "metadata": {
  "kernelspec": {
   "display_name": "naparienv",
   "language": "python",
   "name": "naparienv"
  },
  "language_info": {
   "codemirror_mode": {
    "name": "ipython",
    "version": 3
   },
   "file_extension": ".py",
   "mimetype": "text/x-python",
   "name": "python",
   "nbconvert_exporter": "python",
   "pygments_lexer": "ipython3",
   "version": "3.7.10"
  }
 },
 "nbformat": 4,
 "nbformat_minor": 5
}
