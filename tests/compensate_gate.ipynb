{
 "cells": [
  {
   "cell_type": "markdown",
   "id": "b9c562f9",
   "metadata": {},
   "source": [
    "Here is an attempt and compensating and pregating."
   ]
  },
  {
   "cell_type": "code",
   "execution_count": 1,
   "id": "76bf79de",
   "metadata": {},
   "outputs": [],
   "source": [
    "import sys\n",
    "sys.path.append('../')\n",
    "import compensateflowcyte as cfc\n",
    "import gateflowcyte as gfc\n",
    "import matplotlib.pyplot as plt\n",
    "import pandas as pd\n",
    "import numpy as np"
   ]
  },
  {
   "cell_type": "code",
   "execution_count": 2,
   "id": "4e906408",
   "metadata": {},
   "outputs": [
    {
     "name": "stdout",
     "output_type": "stream",
     "text": [
      "FCS3.1\n",
      "[58, 3605, 3606, 52286214, 0, 0]\n",
      "5\n"
     ]
    }
   ],
   "source": [
    "comp,cmeta=cfc.getCompensated('A4_raw.fcs')"
   ]
  },
  {
   "cell_type": "code",
   "execution_count": 3,
   "id": "61e9450a",
   "metadata": {},
   "outputs": [
    {
     "data": {
      "text/html": [
       "<div>\n",
       "<style scoped>\n",
       "    .dataframe tbody tr th:only-of-type {\n",
       "        vertical-align: middle;\n",
       "    }\n",
       "\n",
       "    .dataframe tbody tr th {\n",
       "        vertical-align: top;\n",
       "    }\n",
       "\n",
       "    .dataframe thead th {\n",
       "        text-align: right;\n",
       "    }\n",
       "</style>\n",
       "<table border=\"1\" class=\"dataframe\">\n",
       "  <thead>\n",
       "    <tr style=\"text-align: right;\">\n",
       "      <th></th>\n",
       "      <th>T0</th>\n",
       "      <th>T1</th>\n",
       "      <th>INFO</th>\n",
       "      <th>FS00-H</th>\n",
       "      <th>FS00-A</th>\n",
       "      <th>FS00-W</th>\n",
       "      <th>FS01-H</th>\n",
       "      <th>FS01-A</th>\n",
       "      <th>FS01-W</th>\n",
       "      <th>SS02-H</th>\n",
       "      <th>...</th>\n",
       "      <th>FL10-H</th>\n",
       "      <th>FL10-A</th>\n",
       "      <th>FL10-W</th>\n",
       "      <th>FL13-H</th>\n",
       "      <th>FL13-A</th>\n",
       "      <th>FL13-W</th>\n",
       "      <th>FL17-H</th>\n",
       "      <th>FL17-A</th>\n",
       "      <th>FL17-W</th>\n",
       "      <th>TIME</th>\n",
       "    </tr>\n",
       "  </thead>\n",
       "  <tbody>\n",
       "    <tr>\n",
       "      <th>0</th>\n",
       "      <td>-1396154348</td>\n",
       "      <td>0</td>\n",
       "      <td>868096</td>\n",
       "      <td>58024192</td>\n",
       "      <td>96669696</td>\n",
       "      <td>1112080384</td>\n",
       "      <td>1110838784</td>\n",
       "      <td>1779248128</td>\n",
       "      <td>993820672</td>\n",
       "      <td>347496448</td>\n",
       "      <td>...</td>\n",
       "      <td>1701888</td>\n",
       "      <td>1.635079e+06</td>\n",
       "      <td>561250304</td>\n",
       "      <td>2458624</td>\n",
       "      <td>2740224.0</td>\n",
       "      <td>678625280</td>\n",
       "      <td>2468864</td>\n",
       "      <td>2597120.0</td>\n",
       "      <td>642646016</td>\n",
       "      <td>5797626</td>\n",
       "    </tr>\n",
       "    <tr>\n",
       "      <th>1</th>\n",
       "      <td>-1396153901</td>\n",
       "      <td>0</td>\n",
       "      <td>868096</td>\n",
       "      <td>49383424</td>\n",
       "      <td>58628864</td>\n",
       "      <td>723189760</td>\n",
       "      <td>641084928</td>\n",
       "      <td>864103424</td>\n",
       "      <td>840728576</td>\n",
       "      <td>54411776</td>\n",
       "      <td>...</td>\n",
       "      <td>13056</td>\n",
       "      <td>1.598414e+04</td>\n",
       "      <td>41975808</td>\n",
       "      <td>3328</td>\n",
       "      <td>12544.0</td>\n",
       "      <td>20381696</td>\n",
       "      <td>82688</td>\n",
       "      <td>37888.0</td>\n",
       "      <td>119832576</td>\n",
       "      <td>5797627</td>\n",
       "    </tr>\n",
       "    <tr>\n",
       "      <th>2</th>\n",
       "      <td>-1396152839</td>\n",
       "      <td>0</td>\n",
       "      <td>868096</td>\n",
       "      <td>123719168</td>\n",
       "      <td>173062912</td>\n",
       "      <td>834502656</td>\n",
       "      <td>961208064</td>\n",
       "      <td>1812524032</td>\n",
       "      <td>1199439872</td>\n",
       "      <td>291883264</td>\n",
       "      <td>...</td>\n",
       "      <td>1540096</td>\n",
       "      <td>1.973602e+06</td>\n",
       "      <td>753205248</td>\n",
       "      <td>2160128</td>\n",
       "      <td>2163712.0</td>\n",
       "      <td>469204992</td>\n",
       "      <td>4014848</td>\n",
       "      <td>4945152.0</td>\n",
       "      <td>725254144</td>\n",
       "      <td>5797629</td>\n",
       "    </tr>\n",
       "    <tr>\n",
       "      <th>3</th>\n",
       "      <td>-1396150530</td>\n",
       "      <td>0</td>\n",
       "      <td>868096</td>\n",
       "      <td>312911872</td>\n",
       "      <td>523112960</td>\n",
       "      <td>998506496</td>\n",
       "      <td>1894009856</td>\n",
       "      <td>2147483392</td>\n",
       "      <td>1433206784</td>\n",
       "      <td>1023461376</td>\n",
       "      <td>...</td>\n",
       "      <td>4802048</td>\n",
       "      <td>7.508235e+06</td>\n",
       "      <td>911310848</td>\n",
       "      <td>6752256</td>\n",
       "      <td>9140224.0</td>\n",
       "      <td>867598336</td>\n",
       "      <td>9154816</td>\n",
       "      <td>13964800.0</td>\n",
       "      <td>964657152</td>\n",
       "      <td>5797634</td>\n",
       "    </tr>\n",
       "    <tr>\n",
       "      <th>4</th>\n",
       "      <td>-1396146718</td>\n",
       "      <td>0</td>\n",
       "      <td>868096</td>\n",
       "      <td>156853504</td>\n",
       "      <td>292455680</td>\n",
       "      <td>1098383360</td>\n",
       "      <td>1154133248</td>\n",
       "      <td>2147483392</td>\n",
       "      <td>1557856256</td>\n",
       "      <td>440052224</td>\n",
       "      <td>...</td>\n",
       "      <td>3191808</td>\n",
       "      <td>5.110801e+06</td>\n",
       "      <td>1046511616</td>\n",
       "      <td>4830208</td>\n",
       "      <td>8096512.0</td>\n",
       "      <td>1031798784</td>\n",
       "      <td>4570112</td>\n",
       "      <td>8100608.0</td>\n",
       "      <td>1106935808</td>\n",
       "      <td>5797641</td>\n",
       "    </tr>\n",
       "  </tbody>\n",
       "</table>\n",
       "<p>5 rows × 28 columns</p>\n",
       "</div>"
      ],
      "text/plain": [
       "           T0  T1    INFO     FS00-H     FS00-A      FS00-W      FS01-H  \\\n",
       "0 -1396154348   0  868096   58024192   96669696  1112080384  1110838784   \n",
       "1 -1396153901   0  868096   49383424   58628864   723189760   641084928   \n",
       "2 -1396152839   0  868096  123719168  173062912   834502656   961208064   \n",
       "3 -1396150530   0  868096  312911872  523112960   998506496  1894009856   \n",
       "4 -1396146718   0  868096  156853504  292455680  1098383360  1154133248   \n",
       "\n",
       "       FS01-A      FS01-W      SS02-H  ...   FL10-H        FL10-A      FL10-W  \\\n",
       "0  1779248128   993820672   347496448  ...  1701888  1.635079e+06   561250304   \n",
       "1   864103424   840728576    54411776  ...    13056  1.598414e+04    41975808   \n",
       "2  1812524032  1199439872   291883264  ...  1540096  1.973602e+06   753205248   \n",
       "3  2147483392  1433206784  1023461376  ...  4802048  7.508235e+06   911310848   \n",
       "4  2147483392  1557856256   440052224  ...  3191808  5.110801e+06  1046511616   \n",
       "\n",
       "    FL13-H     FL13-A      FL13-W   FL17-H      FL17-A      FL17-W     TIME  \n",
       "0  2458624  2740224.0   678625280  2468864   2597120.0   642646016  5797626  \n",
       "1     3328    12544.0    20381696    82688     37888.0   119832576  5797627  \n",
       "2  2160128  2163712.0   469204992  4014848   4945152.0   725254144  5797629  \n",
       "3  6752256  9140224.0   867598336  9154816  13964800.0   964657152  5797634  \n",
       "4  4830208  8096512.0  1031798784  4570112   8100608.0  1106935808  5797641  \n",
       "\n",
       "[5 rows x 28 columns]"
      ]
     },
     "execution_count": 3,
     "metadata": {},
     "output_type": "execute_result"
    }
   ],
   "source": [
    "comp.head()"
   ]
  },
  {
   "cell_type": "code",
   "execution_count": 4,
   "id": "6d1d42e7",
   "metadata": {
    "scrolled": true
   },
   "outputs": [
    {
     "data": {
      "image/png": "[encoded data removed]",
      "text/plain": [
       "<Figure size 432x288 with 1 Axes>"
      ]
     },
     "metadata": {
      "needs_background": "light"
     },
     "output_type": "display_data"
    }
   ],
   "source": [
    "#now need to do the scatter gate (SS02-A vs. FS00-A)\n",
    "plt.scatter(comp['FS00-A'],comp['SS02-A'],s=1)\n",
    "plt.xscale('log')\n",
    "plt.yscale('log')\n",
    "plt.xlim(1e6,1e9)\n",
    "plt.ylim(1e4,1e10)\n",
    "plt.show()"
   ]
  },
  {
   "cell_type": "code",
   "execution_count": 5,
   "id": "68be4d80",
   "metadata": {},
   "outputs": [],
   "source": [
    "#show this plot in napari, will create the viewer as well\n",
    "fig,figimg,viewer=gfc.addNapariHist(comp,'FS00-A','SS02-A',limits=[1e6,1e9,1e6,1e10],logs=[True,True])"
   ]
  },
  {
   "cell_type": "code",
   "execution_count": 10,
   "id": "b81ce05d",
   "metadata": {},
   "outputs": [
    {
     "data": {
      "text/plain": [
       "array([[779.51181557, 482.18892646],\n",
       "       [730.96930496, 977.72705569],\n",
       "       [300.15452322, 983.79486952],\n",
       "       [306.22233705, 488.25674029]])"
      ]
     },
     "execution_count": 10,
     "metadata": {},
     "output_type": "execute_result"
    }
   ],
   "source": [
    "#once the gate is added it will be in the data object from the last layer\n",
    "scattergate=viewer.layers[-1].data[0]\n",
    "scattergate"
   ]
  },
  {
   "cell_type": "code",
   "execution_count": 6,
   "id": "f7dab465",
   "metadata": {},
   "outputs": [],
   "source": [
    "#copy the gate from the cell above so we can skip the interactive part if we already have the gates defined\n",
    "scattergate=np.array([[779.51181557, 482.18892646],\n",
    "       [730.96930496, 977.72705569],\n",
    "       [300.15452322, 983.79486952],\n",
    "       [306.22233705, 488.25674029]])"
   ]
  },
  {
   "cell_type": "code",
   "execution_count": 7,
   "id": "8df7e207",
   "metadata": {},
   "outputs": [],
   "source": [
    "inscatgate,_,_=gfc.plotGateContains(comp['FS00-A'],comp['SS02-A'],scattergate,limits=[1e6,1e9,1e6,1e10],logs=[True,True])"
   ]
  },
  {
   "cell_type": "code",
   "execution_count": 8,
   "id": "26b44497",
   "metadata": {},
   "outputs": [
    {
     "data": {
      "image/png": "[encoded data removed]",
      "text/plain": [
       "<Figure size 600x400 with 1 Axes>"
      ]
     },
     "execution_count": 8,
     "metadata": {},
     "output_type": "execute_result"
    }
   ],
   "source": [
    "#if we want we can draw the figure with the gate on it here\n",
    "overfig,overimg=gfc.overlayImageGate(figimg,scattergate)\n",
    "overfig.set_dpi(100)\n",
    "overfig"
   ]
  },
  {
   "cell_type": "code",
   "execution_count": 9,
   "id": "e572952a",
   "metadata": {},
   "outputs": [],
   "source": [
    "#now draw the image to get the single cell gate\n",
    "_,figimg,_=gfc.addNapariHist(comp,'FS00-W','FS00-H',limits=[4e8,3e9,1e6,1e9],logs=[True,True],viewer=viewer)"
   ]
  },
  {
   "cell_type": "code",
   "execution_count": 28,
   "id": "9a4d678b",
   "metadata": {},
   "outputs": [
    {
     "data": {
      "text/plain": [
       "array([[263.74764025, 474.09850803],\n",
       "       [955.47841657, 482.18892646],\n",
       "       [957.50102117, 310.26753469],\n",
       "       [265.77024486, 322.40316235]])"
      ]
     },
     "execution_count": 28,
     "metadata": {},
     "output_type": "execute_result"
    }
   ],
   "source": [
    "viewer.layers[-1].data[0]"
   ]
  },
  {
   "cell_type": "code",
   "execution_count": 10,
   "id": "bcf94723",
   "metadata": {},
   "outputs": [],
   "source": [
    "scgate=np.array([[263.74764025, 474.09850803],\n",
    "       [955.47841657, 482.18892646],\n",
    "       [957.50102117, 310.26753469],\n",
    "       [265.77024486, 322.40316235]])"
   ]
  },
  {
   "cell_type": "code",
   "execution_count": 11,
   "id": "04f5c582",
   "metadata": {},
   "outputs": [],
   "source": [
    "inscgate,_,_=gfc.plotGateContains(comp['FS00-W'],comp['FS00-H'],scgate,limits=[4e8,3e9,1e6,1e9],logs=[True,True])"
   ]
  },
  {
   "cell_type": "code",
   "execution_count": 12,
   "id": "eca28a2d",
   "metadata": {},
   "outputs": [],
   "source": [
    "#now draw the image to get the expressing gate\n",
    "_,figimg,_=gfc.addNapariHist(comp,'FL03-A','FL17-A',limits=[3e3,1e10,5e3,1e7],logs=[True,True],viewer=viewer)"
   ]
  },
  {
   "cell_type": "code",
   "execution_count": 41,
   "id": "390b1a40",
   "metadata": {},
   "outputs": [
    {
     "data": {
      "text/plain": [
       "array([[939.29757969, 372.96827757],\n",
       "       [937.27497508, 941.32017273],\n",
       "       [356.78745227, 947.38798656],\n",
       "       [374.99089376, 512.5279956 ]])"
      ]
     },
     "execution_count": 41,
     "metadata": {},
     "output_type": "execute_result"
    }
   ],
   "source": [
    "viewer.layers[-1].data[0]"
   ]
  },
  {
   "cell_type": "code",
   "execution_count": 13,
   "id": "049262b8",
   "metadata": {},
   "outputs": [],
   "source": [
    "expgate=np.array([[939.29757969, 372.96827757],\n",
    "       [937.27497508, 941.32017273],\n",
    "       [356.78745227, 947.38798656],\n",
    "       [374.99089376, 512.5279956 ]])"
   ]
  },
  {
   "cell_type": "code",
   "execution_count": 14,
   "id": "a02a17f0",
   "metadata": {},
   "outputs": [
    {
     "name": "stderr",
     "output_type": "stream",
     "text": [
      "C:\\Users\\jru\\Miniconda3\\envs\\naparienv\\lib\\site-packages\\pandas\\core\\arraylike.py:358: RuntimeWarning: invalid value encountered in log\n",
      "  result = getattr(ufunc, method)(*inputs, **kwargs)\n"
     ]
    }
   ],
   "source": [
    "inexpgate,_,_=gfc.plotGateContains(comp['FL03-A'],comp['FL17-A'],expgate,limits=[3e3,1e10,5e3,1e7],logs=[True,True])"
   ]
  },
  {
   "cell_type": "code",
   "execution_count": 15,
   "id": "c1bb792c",
   "metadata": {
    "scrolled": true
   },
   "outputs": [
    {
     "name": "stdout",
     "output_type": "stream",
     "text": [
      "(104954, 28)\n"
     ]
    },
    {
     "data": {
      "text/html": [
       "<div>\n",
       "<style scoped>\n",
       "    .dataframe tbody tr th:only-of-type {\n",
       "        vertical-align: middle;\n",
       "    }\n",
       "\n",
       "    .dataframe tbody tr th {\n",
       "        vertical-align: top;\n",
       "    }\n",
       "\n",
       "    .dataframe thead th {\n",
       "        text-align: right;\n",
       "    }\n",
       "</style>\n",
       "<table border=\"1\" class=\"dataframe\">\n",
       "  <thead>\n",
       "    <tr style=\"text-align: right;\">\n",
       "      <th></th>\n",
       "      <th>T0</th>\n",
       "      <th>T1</th>\n",
       "      <th>INFO</th>\n",
       "      <th>FS00-H</th>\n",
       "      <th>FS00-A</th>\n",
       "      <th>FS00-W</th>\n",
       "      <th>FS01-H</th>\n",
       "      <th>FS01-A</th>\n",
       "      <th>FS01-W</th>\n",
       "      <th>SS02-H</th>\n",
       "      <th>...</th>\n",
       "      <th>FL10-H</th>\n",
       "      <th>FL10-A</th>\n",
       "      <th>FL10-W</th>\n",
       "      <th>FL13-H</th>\n",
       "      <th>FL13-A</th>\n",
       "      <th>FL13-W</th>\n",
       "      <th>FL17-H</th>\n",
       "      <th>FL17-A</th>\n",
       "      <th>FL17-W</th>\n",
       "      <th>TIME</th>\n",
       "    </tr>\n",
       "  </thead>\n",
       "  <tbody>\n",
       "    <tr>\n",
       "      <th>9</th>\n",
       "      <td>-1396141970</td>\n",
       "      <td>0</td>\n",
       "      <td>868096</td>\n",
       "      <td>164225536</td>\n",
       "      <td>202983424</td>\n",
       "      <td>742195200</td>\n",
       "      <td>1203360000</td>\n",
       "      <td>1767147008</td>\n",
       "      <td>949583872</td>\n",
       "      <td>294664448</td>\n",
       "      <td>...</td>\n",
       "      <td>63261952</td>\n",
       "      <td>6.639710e+07</td>\n",
       "      <td>636092416</td>\n",
       "      <td>33336576</td>\n",
       "      <td>36046336.0</td>\n",
       "      <td>655360000</td>\n",
       "      <td>614656</td>\n",
       "      <td>631552.0</td>\n",
       "      <td>571408384</td>\n",
       "      <td>5797651</td>\n",
       "    </tr>\n",
       "    <tr>\n",
       "      <th>19</th>\n",
       "      <td>-1396131424</td>\n",
       "      <td>0</td>\n",
       "      <td>868096</td>\n",
       "      <td>148475392</td>\n",
       "      <td>174208000</td>\n",
       "      <td>690913280</td>\n",
       "      <td>1209892352</td>\n",
       "      <td>1726370816</td>\n",
       "      <td>920190976</td>\n",
       "      <td>200220672</td>\n",
       "      <td>...</td>\n",
       "      <td>151727872</td>\n",
       "      <td>1.623939e+08</td>\n",
       "      <td>673742848</td>\n",
       "      <td>82380544</td>\n",
       "      <td>90364928.0</td>\n",
       "      <td>678232064</td>\n",
       "      <td>402944</td>\n",
       "      <td>363520.0</td>\n",
       "      <td>428638208</td>\n",
       "      <td>5797672</td>\n",
       "    </tr>\n",
       "    <tr>\n",
       "      <th>27</th>\n",
       "      <td>-1396120401</td>\n",
       "      <td>0</td>\n",
       "      <td>868096</td>\n",
       "      <td>168744704</td>\n",
       "      <td>198043392</td>\n",
       "      <td>711720960</td>\n",
       "      <td>1246867712</td>\n",
       "      <td>1655080960</td>\n",
       "      <td>894402560</td>\n",
       "      <td>229061376</td>\n",
       "      <td>...</td>\n",
       "      <td>2323968</td>\n",
       "      <td>2.107255e+06</td>\n",
       "      <td>432701440</td>\n",
       "      <td>1340928</td>\n",
       "      <td>1105152.0</td>\n",
       "      <td>455999488</td>\n",
       "      <td>345088</td>\n",
       "      <td>427264.0</td>\n",
       "      <td>626458624</td>\n",
       "      <td>5797694</td>\n",
       "    </tr>\n",
       "    <tr>\n",
       "      <th>31</th>\n",
       "      <td>-1396115901</td>\n",
       "      <td>0</td>\n",
       "      <td>868096</td>\n",
       "      <td>49584896</td>\n",
       "      <td>51941120</td>\n",
       "      <td>628588544</td>\n",
       "      <td>372074496</td>\n",
       "      <td>510794752</td>\n",
       "      <td>869105664</td>\n",
       "      <td>65764096</td>\n",
       "      <td>...</td>\n",
       "      <td>2302464</td>\n",
       "      <td>2.432866e+06</td>\n",
       "      <td>647790592</td>\n",
       "      <td>1220864</td>\n",
       "      <td>1247744.0</td>\n",
       "      <td>580517888</td>\n",
       "      <td>79104</td>\n",
       "      <td>28928.0</td>\n",
       "      <td>124813312</td>\n",
       "      <td>5797703</td>\n",
       "    </tr>\n",
       "    <tr>\n",
       "      <th>47</th>\n",
       "      <td>-1396093437</td>\n",
       "      <td>0</td>\n",
       "      <td>868096</td>\n",
       "      <td>183159808</td>\n",
       "      <td>212843264</td>\n",
       "      <td>709853184</td>\n",
       "      <td>1024466944</td>\n",
       "      <td>1382457856</td>\n",
       "      <td>910983168</td>\n",
       "      <td>271690752</td>\n",
       "      <td>...</td>\n",
       "      <td>11295488</td>\n",
       "      <td>1.226453e+07</td>\n",
       "      <td>662994944</td>\n",
       "      <td>6236416</td>\n",
       "      <td>6407168.0</td>\n",
       "      <td>631537664</td>\n",
       "      <td>470528</td>\n",
       "      <td>476928.0</td>\n",
       "      <td>445710336</td>\n",
       "      <td>5797748</td>\n",
       "    </tr>\n",
       "  </tbody>\n",
       "</table>\n",
       "<p>5 rows × 28 columns</p>\n",
       "</div>"
      ],
      "text/plain": [
       "            T0  T1    INFO     FS00-H     FS00-A     FS00-W      FS01-H  \\\n",
       "9  -1396141970   0  868096  164225536  202983424  742195200  1203360000   \n",
       "19 -1396131424   0  868096  148475392  174208000  690913280  1209892352   \n",
       "27 -1396120401   0  868096  168744704  198043392  711720960  1246867712   \n",
       "31 -1396115901   0  868096   49584896   51941120  628588544   372074496   \n",
       "47 -1396093437   0  868096  183159808  212843264  709853184  1024466944   \n",
       "\n",
       "        FS01-A     FS01-W     SS02-H  ...     FL10-H        FL10-A     FL10-W  \\\n",
       "9   1767147008  949583872  294664448  ...   63261952  6.639710e+07  636092416   \n",
       "19  1726370816  920190976  200220672  ...  151727872  1.623939e+08  673742848   \n",
       "27  1655080960  894402560  229061376  ...    2323968  2.107255e+06  432701440   \n",
       "31   510794752  869105664   65764096  ...    2302464  2.432866e+06  647790592   \n",
       "47  1382457856  910983168  271690752  ...   11295488  1.226453e+07  662994944   \n",
       "\n",
       "      FL13-H      FL13-A     FL13-W  FL17-H    FL17-A     FL17-W     TIME  \n",
       "9   33336576  36046336.0  655360000  614656  631552.0  571408384  5797651  \n",
       "19  82380544  90364928.0  678232064  402944  363520.0  428638208  5797672  \n",
       "27   1340928   1105152.0  455999488  345088  427264.0  626458624  5797694  \n",
       "31   1220864   1247744.0  580517888   79104   28928.0  124813312  5797703  \n",
       "47   6236416   6407168.0  631537664  470528  476928.0  445710336  5797748  \n",
       "\n",
       "[5 rows x 28 columns]"
      ]
     },
     "execution_count": 15,
     "metadata": {},
     "output_type": "execute_result"
    }
   ],
   "source": [
    "inallgates=np.array(inscatgate) & np.array(inscgate) & np.array(inexpgate)\n",
    "gated=comp[inallgates].copy()\n",
    "print(gated.shape)\n",
    "gated.head()"
   ]
  },
  {
   "cell_type": "code",
   "execution_count": 16,
   "id": "6e79c9a5",
   "metadata": {},
   "outputs": [],
   "source": [
    "cfc.saveDF('A4_pycompgate.fcs',gated,cmeta)"
   ]
  },
  {
   "cell_type": "code",
   "execution_count": 17,
   "id": "c2a0200d",
   "metadata": {},
   "outputs": [],
   "source": [
    "gated['FRET']=gated['FL04-A']/gated['FL10-A']\n",
    "gated['Acceptor']=gated['FL10-A']/1000000.0"
   ]
  },
  {
   "cell_type": "code",
   "execution_count": 18,
   "id": "1d4a8b20",
   "metadata": {},
   "outputs": [],
   "source": [
    "fig,figimg=gfc.drawHist(gated,'Acceptor','FRET',limits=[1,2500,-0.2,1],logs=[True,False])"
   ]
  },
  {
   "cell_type": "code",
   "execution_count": 19,
   "id": "8e3e9614",
   "metadata": {},
   "outputs": [
    {
     "data": {
      "image/png": "[encoded data removed]",
      "text/plain": [
       "<Figure size 400x400 with 1 Axes>"
      ]
     },
     "execution_count": 19,
     "metadata": {},
     "output_type": "execute_result"
    }
   ],
   "source": [
    "fig.set_dpi(100)\n",
    "fig"
   ]
  },
  {
   "cell_type": "code",
   "execution_count": null,
   "id": "e09b6187",
   "metadata": {},
   "outputs": [],
   "source": []
  }
 ],
 "metadata": {
  "kernelspec": {
   "display_name": "naparienv",
   "language": "python",
   "name": "naparienv"
  },
  "language_info": {
   "codemirror_mode": {
    "name": "ipython",
    "version": 3
   },
   "file_extension": ".py",
   "mimetype": "text/x-python",
   "name": "python",
   "nbconvert_exporter": "python",
   "pygments_lexer": "ipython3",
   "version": "3.7.10"
  }
 },
 "nbformat": 4,
 "nbformat_minor": 5
}
