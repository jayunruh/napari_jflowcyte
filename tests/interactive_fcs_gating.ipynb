{
 "cells": [
  {
   "cell_type": "markdown",
   "id": "b9c562f9",
   "metadata": {},
   "source": [
    "This tests the napari_jflowcyte gating package.  The code reads an FCS file (via importflowcyte) then displays it interactively in napari.  Gate drawing consists of Napari polygons which are read back into python and turned into plot coordinates.  Gating is then accomplished with the gateflowcyte script and files are exported with exportflowcyte."
   ]
  },
  {
   "cell_type": "code",
   "execution_count": 1,
   "id": "76bf79de",
   "metadata": {},
   "outputs": [],
   "source": [
    "import matplotlib.pyplot as plt\n",
    "from matplotlib.backends.backend_agg import FigureCanvasAgg\n",
    "from matplotlib.figure import Figure\n",
    "import numpy as np\n",
    "import pandas as pd\n",
    "import napari\n",
    "from magicgui import magicgui\n",
    "%gui qt\n",
    "import sys\n",
    "sys.path.append('../')\n",
    "import importflowcyte\n",
    "import exportflowcyte\n",
    "import importpw\n",
    "import gateflowcyte as gfc"
   ]
  },
  {
   "cell_type": "code",
   "execution_count": 2,
   "id": "4e906408",
   "metadata": {},
   "outputs": [
    {
     "name": "stdout",
     "output_type": "stream",
     "text": [
      "FCS3.0\n",
      "[58, 3260, 3261, 4975500, 0, 0]\n"
     ]
    }
   ],
   "source": [
    "chnames,data,meta=importflowcyte.getFCSFile('H7.fcs')"
   ]
  },
  {
   "cell_type": "code",
   "execution_count": 3,
   "id": "61e9450a",
   "metadata": {},
   "outputs": [
    {
     "data": {
      "text/html": [
       "<div>\n",
       "<style scoped>\n",
       "    .dataframe tbody tr th:only-of-type {\n",
       "        vertical-align: middle;\n",
       "    }\n",
       "\n",
       "    .dataframe tbody tr th {\n",
       "        vertical-align: top;\n",
       "    }\n",
       "\n",
       "    .dataframe thead th {\n",
       "        text-align: right;\n",
       "    }\n",
       "</style>\n",
       "<table border=\"1\" class=\"dataframe\">\n",
       "  <thead>\n",
       "    <tr style=\"text-align: right;\">\n",
       "      <th></th>\n",
       "      <th>T0</th>\n",
       "      <th>T1</th>\n",
       "      <th>INFO</th>\n",
       "      <th>FS00-H</th>\n",
       "      <th>FS00-A</th>\n",
       "      <th>FS00-W</th>\n",
       "      <th>FS01-H</th>\n",
       "      <th>FS01-A</th>\n",
       "      <th>FS01-W</th>\n",
       "      <th>SS02-H</th>\n",
       "      <th>...</th>\n",
       "      <th>FL10-H</th>\n",
       "      <th>FL10-A</th>\n",
       "      <th>FL10-W</th>\n",
       "      <th>FL13-H</th>\n",
       "      <th>FL13-A</th>\n",
       "      <th>FL13-W</th>\n",
       "      <th>FL17-H</th>\n",
       "      <th>FL17-A</th>\n",
       "      <th>FL17-W</th>\n",
       "      <th>TIME</th>\n",
       "    </tr>\n",
       "  </thead>\n",
       "  <tbody>\n",
       "    <tr>\n",
       "      <th>0</th>\n",
       "      <td>1.271600e+09</td>\n",
       "      <td>23.0</td>\n",
       "      <td>56890112.0</td>\n",
       "      <td>132470528.0</td>\n",
       "      <td>172975104.0</td>\n",
       "      <td>806780928.0</td>\n",
       "      <td>7.830218e+08</td>\n",
       "      <td>1.185355e+09</td>\n",
       "      <td>9.914941e+08</td>\n",
       "      <td>157025536.0</td>\n",
       "      <td>...</td>\n",
       "      <td>3738368.0</td>\n",
       "      <td>4.301302e+06</td>\n",
       "      <td>693501952.0</td>\n",
       "      <td>5252352.0</td>\n",
       "      <td>5879040.0</td>\n",
       "      <td>633536512.0</td>\n",
       "      <td>560128.0</td>\n",
       "      <td>475904.0</td>\n",
       "      <td>459767808.0</td>\n",
       "      <td>204406656.0</td>\n",
       "    </tr>\n",
       "    <tr>\n",
       "      <th>1</th>\n",
       "      <td>1.271604e+09</td>\n",
       "      <td>23.0</td>\n",
       "      <td>56890112.0</td>\n",
       "      <td>193982464.0</td>\n",
       "      <td>230758912.0</td>\n",
       "      <td>722862080.0</td>\n",
       "      <td>7.621455e+08</td>\n",
       "      <td>1.163070e+09</td>\n",
       "      <td>1.021247e+09</td>\n",
       "      <td>144043776.0</td>\n",
       "      <td>...</td>\n",
       "      <td>239104.0</td>\n",
       "      <td>2.628325e+05</td>\n",
       "      <td>374505472.0</td>\n",
       "      <td>302336.0</td>\n",
       "      <td>194048.0</td>\n",
       "      <td>174456832.0</td>\n",
       "      <td>480768.0</td>\n",
       "      <td>489984.0</td>\n",
       "      <td>457015296.0</td>\n",
       "      <td>204406672.0</td>\n",
       "    </tr>\n",
       "    <tr>\n",
       "      <th>2</th>\n",
       "      <td>1.271616e+09</td>\n",
       "      <td>23.0</td>\n",
       "      <td>56890112.0</td>\n",
       "      <td>220672256.0</td>\n",
       "      <td>281977088.0</td>\n",
       "      <td>779747328.0</td>\n",
       "      <td>1.041519e+09</td>\n",
       "      <td>1.599409e+09</td>\n",
       "      <td>9.946399e+08</td>\n",
       "      <td>217775872.0</td>\n",
       "      <td>...</td>\n",
       "      <td>1695232.0</td>\n",
       "      <td>1.773067e+06</td>\n",
       "      <td>684359680.0</td>\n",
       "      <td>2685184.0</td>\n",
       "      <td>2742784.0</td>\n",
       "      <td>643399680.0</td>\n",
       "      <td>526848.0</td>\n",
       "      <td>724480.0</td>\n",
       "      <td>725385216.0</td>\n",
       "      <td>204406672.0</td>\n",
       "    </tr>\n",
       "    <tr>\n",
       "      <th>3</th>\n",
       "      <td>1.271616e+09</td>\n",
       "      <td>23.0</td>\n",
       "      <td>56890112.0</td>\n",
       "      <td>189160960.0</td>\n",
       "      <td>223701248.0</td>\n",
       "      <td>718209024.0</td>\n",
       "      <td>8.974874e+08</td>\n",
       "      <td>1.346793e+09</td>\n",
       "      <td>1.020068e+09</td>\n",
       "      <td>102217472.0</td>\n",
       "      <td>...</td>\n",
       "      <td>486144.0</td>\n",
       "      <td>4.242165e+05</td>\n",
       "      <td>372998144.0</td>\n",
       "      <td>815872.0</td>\n",
       "      <td>950272.0</td>\n",
       "      <td>638189568.0</td>\n",
       "      <td>493312.0</td>\n",
       "      <td>540672.0</td>\n",
       "      <td>393576448.0</td>\n",
       "      <td>204406672.0</td>\n",
       "    </tr>\n",
       "    <tr>\n",
       "      <th>4</th>\n",
       "      <td>1.271623e+09</td>\n",
       "      <td>23.0</td>\n",
       "      <td>56890112.0</td>\n",
       "      <td>262222336.0</td>\n",
       "      <td>329283584.0</td>\n",
       "      <td>777781248.0</td>\n",
       "      <td>1.106833e+09</td>\n",
       "      <td>1.533192e+09</td>\n",
       "      <td>7.985889e+08</td>\n",
       "      <td>336620544.0</td>\n",
       "      <td>...</td>\n",
       "      <td>10863104.0</td>\n",
       "      <td>1.189590e+07</td>\n",
       "      <td>667189248.0</td>\n",
       "      <td>14011904.0</td>\n",
       "      <td>16138240.0</td>\n",
       "      <td>707133440.0</td>\n",
       "      <td>784128.0</td>\n",
       "      <td>1099520.0</td>\n",
       "      <td>710082560.0</td>\n",
       "      <td>204406704.0</td>\n",
       "    </tr>\n",
       "  </tbody>\n",
       "</table>\n",
       "<p>5 rows × 28 columns</p>\n",
       "</div>"
      ],
      "text/plain": [
       "             T0    T1        INFO       FS00-H       FS00-A       FS00-W  \\\n",
       "0  1.271600e+09  23.0  56890112.0  132470528.0  172975104.0  806780928.0   \n",
       "1  1.271604e+09  23.0  56890112.0  193982464.0  230758912.0  722862080.0   \n",
       "2  1.271616e+09  23.0  56890112.0  220672256.0  281977088.0  779747328.0   \n",
       "3  1.271616e+09  23.0  56890112.0  189160960.0  223701248.0  718209024.0   \n",
       "4  1.271623e+09  23.0  56890112.0  262222336.0  329283584.0  777781248.0   \n",
       "\n",
       "         FS01-H        FS01-A        FS01-W       SS02-H  ...      FL10-H  \\\n",
       "0  7.830218e+08  1.185355e+09  9.914941e+08  157025536.0  ...   3738368.0   \n",
       "1  7.621455e+08  1.163070e+09  1.021247e+09  144043776.0  ...    239104.0   \n",
       "2  1.041519e+09  1.599409e+09  9.946399e+08  217775872.0  ...   1695232.0   \n",
       "3  8.974874e+08  1.346793e+09  1.020068e+09  102217472.0  ...    486144.0   \n",
       "4  1.106833e+09  1.533192e+09  7.985889e+08  336620544.0  ...  10863104.0   \n",
       "\n",
       "         FL10-A       FL10-W      FL13-H      FL13-A       FL13-W    FL17-H  \\\n",
       "0  4.301302e+06  693501952.0   5252352.0   5879040.0  633536512.0  560128.0   \n",
       "1  2.628325e+05  374505472.0    302336.0    194048.0  174456832.0  480768.0   \n",
       "2  1.773067e+06  684359680.0   2685184.0   2742784.0  643399680.0  526848.0   \n",
       "3  4.242165e+05  372998144.0    815872.0    950272.0  638189568.0  493312.0   \n",
       "4  1.189590e+07  667189248.0  14011904.0  16138240.0  707133440.0  784128.0   \n",
       "\n",
       "      FL17-A       FL17-W         TIME  \n",
       "0   475904.0  459767808.0  204406656.0  \n",
       "1   489984.0  457015296.0  204406672.0  \n",
       "2   724480.0  725385216.0  204406672.0  \n",
       "3   540672.0  393576448.0  204406672.0  \n",
       "4  1099520.0  710082560.0  204406704.0  \n",
       "\n",
       "[5 rows x 28 columns]"
      ]
     },
     "execution_count": 3,
     "metadata": {},
     "output_type": "execute_result"
    }
   ],
   "source": [
    "fcsdf=pd.DataFrame(data.T)\n",
    "fcsdf.columns=chnames\n",
    "fcsdf.head()"
   ]
  },
  {
   "cell_type": "code",
   "execution_count": 4,
   "id": "6d1d42e7",
   "metadata": {},
   "outputs": [],
   "source": [
    "fcsdf['FRET']=fcsdf['FL04-A']/fcsdf['FL10-A']\n",
    "fcsdf['Acceptor']=fcsdf['FL10-A']/1000000.0"
   ]
  },
  {
   "cell_type": "code",
   "execution_count": 5,
   "id": "68be4d80",
   "metadata": {},
   "outputs": [],
   "source": [
    "def drawHist(df,xcol,ycol,limits,logs,binSize=4,figsize=(4,4)):\n",
    "    fig=Figure(figsize=figsize,dpi=300)\n",
    "    #canvas=FigureCanvasAgg(fig)\n",
    "    histbins=importpw.get2DHistBins(binSize=binSize,xMin=limits[0],xMax=limits[1],yMin=limits[2],yMax=limits[3],logx=logs[0],logy=logs[1])\n",
    "    counts,_,_=np.histogram2d(df[xcol],df[ycol],histbins)\n",
    "    cmap=importpw.getNiceColormap(True)\n",
    "    marg=0.15\n",
    "    width=1.0-2.0*marg\n",
    "    height=1.0-2.0*marg\n",
    "    #ax=fig.gca()\n",
    "    ax=fig.add_axes([marg,marg,width,height])\n",
    "    ax.pcolormesh(histbins[0],histbins[1],counts.T,cmap=cmap)\n",
    "    ax.set_xlabel(xcol)\n",
    "    ax.set_ylabel(ycol,labelpad=-5)\n",
    "    ax.axis([limits[0],limits[1],limits[2],limits[3]])\n",
    "    if logs[0]: ax.set_xscale('log')\n",
    "    if logs[1]: ax.set_yscale('log')\n",
    "    #ax.margins(x=0.05,y=0.05,tight=True)\n",
    "    #plt.subplots_adjust(left=marg,right=(1.0-marg),top=(1.0-marg),bottom=marg)\n",
    "    #ax.yaxis.label_pad=-10\n",
    "    canvas=FigureCanvasAgg(fig)\n",
    "    canvas.draw()\n",
    "    figimg=np.asarray(canvas.buffer_rgba())\n",
    "    return fig,figimg"
   ]
  },
  {
   "cell_type": "code",
   "execution_count": 6,
   "id": "b81ce05d",
   "metadata": {},
   "outputs": [],
   "source": [
    "fig,figimg=drawHist(fcsdf,'Acceptor','FRET',limits=[1.0,2500.0,-0.2,1.0],logs=[True,False])"
   ]
  },
  {
   "cell_type": "code",
   "execution_count": 7,
   "id": "f7dab465",
   "metadata": {},
   "outputs": [
    {
     "data": {
      "text/plain": [
       "<Image layer 'test' at 0x24092120488>"
      ]
     },
     "execution_count": 7,
     "metadata": {},
     "output_type": "execute_result"
    }
   ],
   "source": [
    "viewer=napari.Viewer()\n",
    "viewer.theme='light'\n",
    "viewer.add_image(figimg,blending='opaque',interpolation='bilinear',name='test')"
   ]
  },
  {
   "cell_type": "code",
   "execution_count": 27,
   "id": "8df7e207",
   "metadata": {},
   "outputs": [
    {
     "data": {
      "text/plain": [
       "array([[864.19992859, 754.49539566],\n",
       "       [858.16114728, 422.36242348],\n",
       "       [856.14822017, 178.79824388],\n",
       "       [695.11405184, 178.79824388],\n",
       "       [636.73916582, 879.29687611]])"
      ]
     },
     "execution_count": 27,
     "metadata": {},
     "output_type": "execute_result"
    }
   ],
   "source": [
    "viewer.layers[-1].data[0]"
   ]
  },
  {
   "cell_type": "code",
   "execution_count": 8,
   "id": "80a1d774",
   "metadata": {},
   "outputs": [],
   "source": [
    "gate=np.array([[864.19992859, 754.49539566],\n",
    "       [858.16114728, 422.36242348],\n",
    "       [856.14822017, 178.79824388],\n",
    "       [695.11405184, 178.79824388],\n",
    "       [636.73916582, 879.29687611]])"
   ]
  },
  {
   "cell_type": "code",
   "execution_count": 9,
   "id": "744ebcf6",
   "metadata": {},
   "outputs": [],
   "source": [
    "ingate,xcoords,ycoords=gfc.plotGateContains(fcsdf['Acceptor'],fcsdf['FRET'],gate,limits=[1.0,2500.0,-0.2,1.0],logs=[True,False])"
   ]
  },
  {
   "cell_type": "code",
   "execution_count": 13,
   "id": "f0ecd6e3",
   "metadata": {},
   "outputs": [
    {
     "data": {
      "image/png": "[encoded data removed]",
      "text/plain": [
       "<Figure size 432x288 with 1 Axes>"
      ]
     },
     "metadata": {
      "needs_background": "light"
     },
     "output_type": "display_data"
    }
   ],
   "source": [
    "#plot our coordinates with the gated values highlighted\n",
    "plt.scatter(xcoords,ycoords)\n",
    "plt.scatter(xcoords[ingate],ycoords[ingate],s=8)\n",
    "plt.xlim(0,1080)\n",
    "plt.ylim(0,1080)\n",
    "plt.show()"
   ]
  },
  {
   "cell_type": "code",
   "execution_count": 14,
   "id": "93fc1ab9",
   "metadata": {},
   "outputs": [],
   "source": [
    "#note that this display doesn't exclude values outside the margins, hence the shift from the left side"
   ]
  },
  {
   "cell_type": "code",
   "execution_count": 15,
   "id": "4b513141",
   "metadata": {},
   "outputs": [
    {
     "name": "stdout",
     "output_type": "stream",
     "text": [
      "FCS3.0\n",
      "[58, 3264, 3265, 5548944, 0, 0]\n"
     ]
    },
    {
     "data": {
      "text/html": [
       "<div>\n",
       "<style scoped>\n",
       "    .dataframe tbody tr th:only-of-type {\n",
       "        vertical-align: middle;\n",
       "    }\n",
       "\n",
       "    .dataframe tbody tr th {\n",
       "        vertical-align: top;\n",
       "    }\n",
       "\n",
       "    .dataframe thead th {\n",
       "        text-align: right;\n",
       "    }\n",
       "</style>\n",
       "<table border=\"1\" class=\"dataframe\">\n",
       "  <thead>\n",
       "    <tr style=\"text-align: right;\">\n",
       "      <th></th>\n",
       "      <th>T0</th>\n",
       "      <th>T1</th>\n",
       "      <th>INFO</th>\n",
       "      <th>FS00-H</th>\n",
       "      <th>FS00-A</th>\n",
       "      <th>FS00-W</th>\n",
       "      <th>FS01-H</th>\n",
       "      <th>FS01-A</th>\n",
       "      <th>FS01-W</th>\n",
       "      <th>SS02-H</th>\n",
       "      <th>...</th>\n",
       "      <th>FL10-H</th>\n",
       "      <th>FL10-A</th>\n",
       "      <th>FL10-W</th>\n",
       "      <th>FL13-H</th>\n",
       "      <th>FL13-A</th>\n",
       "      <th>FL13-W</th>\n",
       "      <th>FL17-H</th>\n",
       "      <th>FL17-A</th>\n",
       "      <th>FL17-W</th>\n",
       "      <th>TIME</th>\n",
       "    </tr>\n",
       "  </thead>\n",
       "  <tbody>\n",
       "    <tr>\n",
       "      <th>0</th>\n",
       "      <td>1.131441e+09</td>\n",
       "      <td>1.0</td>\n",
       "      <td>1841920.0</td>\n",
       "      <td>243641344.0</td>\n",
       "      <td>276663808.0</td>\n",
       "      <td>690323456.0</td>\n",
       "      <td>1.370563e+09</td>\n",
       "      <td>1.918996e+09</td>\n",
       "      <td>8.564572e+08</td>\n",
       "      <td>99409664.0</td>\n",
       "      <td>...</td>\n",
       "      <td>22655488.0</td>\n",
       "      <td>25860260.00</td>\n",
       "      <td>684163072.0</td>\n",
       "      <td>27055104.0</td>\n",
       "      <td>31378944.0</td>\n",
       "      <td>706183168.0</td>\n",
       "      <td>308224.0</td>\n",
       "      <td>226560.0</td>\n",
       "      <td>166199296.0</td>\n",
       "      <td>10852817.0</td>\n",
       "    </tr>\n",
       "    <tr>\n",
       "      <th>1</th>\n",
       "      <td>1.131447e+09</td>\n",
       "      <td>1.0</td>\n",
       "      <td>1841920.0</td>\n",
       "      <td>118849792.0</td>\n",
       "      <td>138411008.0</td>\n",
       "      <td>706838528.0</td>\n",
       "      <td>6.904023e+08</td>\n",
       "      <td>1.013809e+09</td>\n",
       "      <td>9.588900e+08</td>\n",
       "      <td>95149312.0</td>\n",
       "      <td>...</td>\n",
       "      <td>4738816.0</td>\n",
       "      <td>5354227.00</td>\n",
       "      <td>692617216.0</td>\n",
       "      <td>6124544.0</td>\n",
       "      <td>6793472.0</td>\n",
       "      <td>635600896.0</td>\n",
       "      <td>296448.0</td>\n",
       "      <td>271872.0</td>\n",
       "      <td>325025792.0</td>\n",
       "      <td>10852829.0</td>\n",
       "    </tr>\n",
       "    <tr>\n",
       "      <th>2</th>\n",
       "      <td>1.131457e+09</td>\n",
       "      <td>1.0</td>\n",
       "      <td>1841920.0</td>\n",
       "      <td>278258176.0</td>\n",
       "      <td>379098368.0</td>\n",
       "      <td>844234752.0</td>\n",
       "      <td>1.316390e+09</td>\n",
       "      <td>2.103820e+09</td>\n",
       "      <td>1.052410e+09</td>\n",
       "      <td>256302080.0</td>\n",
       "      <td>...</td>\n",
       "      <td>13003776.0</td>\n",
       "      <td>16020497.00</td>\n",
       "      <td>756809728.0</td>\n",
       "      <td>16745984.0</td>\n",
       "      <td>19778816.0</td>\n",
       "      <td>727252992.0</td>\n",
       "      <td>877824.0</td>\n",
       "      <td>1040128.0</td>\n",
       "      <td>642252800.0</td>\n",
       "      <td>10852849.0</td>\n",
       "    </tr>\n",
       "    <tr>\n",
       "      <th>3</th>\n",
       "      <td>1.131464e+09</td>\n",
       "      <td>1.0</td>\n",
       "      <td>1841920.0</td>\n",
       "      <td>131810048.0</td>\n",
       "      <td>156323840.0</td>\n",
       "      <td>698220544.0</td>\n",
       "      <td>1.150766e+09</td>\n",
       "      <td>1.846821e+09</td>\n",
       "      <td>1.009910e+09</td>\n",
       "      <td>61808128.0</td>\n",
       "      <td>...</td>\n",
       "      <td>6010112.0</td>\n",
       "      <td>6591571.00</td>\n",
       "      <td>645988352.0</td>\n",
       "      <td>7344896.0</td>\n",
       "      <td>8107776.0</td>\n",
       "      <td>676036608.0</td>\n",
       "      <td>96512.0</td>\n",
       "      <td>42240.0</td>\n",
       "      <td>157351936.0</td>\n",
       "      <td>10852864.0</td>\n",
       "    </tr>\n",
       "    <tr>\n",
       "      <th>4</th>\n",
       "      <td>1.131481e+09</td>\n",
       "      <td>1.0</td>\n",
       "      <td>1841920.0</td>\n",
       "      <td>120316672.0</td>\n",
       "      <td>153921024.0</td>\n",
       "      <td>746258432.0</td>\n",
       "      <td>1.170851e+09</td>\n",
       "      <td>1.634138e+09</td>\n",
       "      <td>8.819835e+08</td>\n",
       "      <td>89509120.0</td>\n",
       "      <td>...</td>\n",
       "      <td>3702528.0</td>\n",
       "      <td>4188114.25</td>\n",
       "      <td>706641920.0</td>\n",
       "      <td>5394432.0</td>\n",
       "      <td>5417728.0</td>\n",
       "      <td>576782336.0</td>\n",
       "      <td>163072.0</td>\n",
       "      <td>143104.0</td>\n",
       "      <td>355729408.0</td>\n",
       "      <td>10852895.0</td>\n",
       "    </tr>\n",
       "  </tbody>\n",
       "</table>\n",
       "<p>5 rows × 28 columns</p>\n",
       "</div>"
      ],
      "text/plain": [
       "             T0   T1       INFO       FS00-H       FS00-A       FS00-W  \\\n",
       "0  1.131441e+09  1.0  1841920.0  243641344.0  276663808.0  690323456.0   \n",
       "1  1.131447e+09  1.0  1841920.0  118849792.0  138411008.0  706838528.0   \n",
       "2  1.131457e+09  1.0  1841920.0  278258176.0  379098368.0  844234752.0   \n",
       "3  1.131464e+09  1.0  1841920.0  131810048.0  156323840.0  698220544.0   \n",
       "4  1.131481e+09  1.0  1841920.0  120316672.0  153921024.0  746258432.0   \n",
       "\n",
       "         FS01-H        FS01-A        FS01-W       SS02-H  ...      FL10-H  \\\n",
       "0  1.370563e+09  1.918996e+09  8.564572e+08   99409664.0  ...  22655488.0   \n",
       "1  6.904023e+08  1.013809e+09  9.588900e+08   95149312.0  ...   4738816.0   \n",
       "2  1.316390e+09  2.103820e+09  1.052410e+09  256302080.0  ...  13003776.0   \n",
       "3  1.150766e+09  1.846821e+09  1.009910e+09   61808128.0  ...   6010112.0   \n",
       "4  1.170851e+09  1.634138e+09  8.819835e+08   89509120.0  ...   3702528.0   \n",
       "\n",
       "        FL10-A       FL10-W      FL13-H      FL13-A       FL13-W    FL17-H  \\\n",
       "0  25860260.00  684163072.0  27055104.0  31378944.0  706183168.0  308224.0   \n",
       "1   5354227.00  692617216.0   6124544.0   6793472.0  635600896.0  296448.0   \n",
       "2  16020497.00  756809728.0  16745984.0  19778816.0  727252992.0  877824.0   \n",
       "3   6591571.00  645988352.0   7344896.0   8107776.0  676036608.0   96512.0   \n",
       "4   4188114.25  706641920.0   5394432.0   5417728.0  576782336.0  163072.0   \n",
       "\n",
       "      FL17-A       FL17-W        TIME  \n",
       "0   226560.0  166199296.0  10852817.0  \n",
       "1   271872.0  325025792.0  10852829.0  \n",
       "2  1040128.0  642252800.0  10852849.0  \n",
       "3    42240.0  157351936.0  10852864.0  \n",
       "4   143104.0  355729408.0  10852895.0  \n",
       "\n",
       "[5 rows x 28 columns]"
      ]
     },
     "execution_count": 15,
     "metadata": {},
     "output_type": "execute_result"
    }
   ],
   "source": [
    "chnames2,data2,meta2=importflowcyte.getFCSFile('A7.fcs')\n",
    "fcsdf2=pd.DataFrame(data2.T)\n",
    "fcsdf2.columns=chnames2\n",
    "fcsdf2.head()"
   ]
  },
  {
   "cell_type": "code",
   "execution_count": 16,
   "id": "68398e2a",
   "metadata": {},
   "outputs": [],
   "source": [
    "fcsdf2['FRET']=fcsdf2['FL04-A']/fcsdf2['FL10-A']\n",
    "fcsdf2['Acceptor']=fcsdf2['FL10-A']/1000000.0"
   ]
  },
  {
   "cell_type": "code",
   "execution_count": 17,
   "id": "71687ec0",
   "metadata": {},
   "outputs": [],
   "source": [
    "fig2,figimg2=drawHist(fcsdf2,'Acceptor','FRET',limits=[1.0,2500.0,-0.2,1.0],logs=[True,False])"
   ]
  },
  {
   "cell_type": "code",
   "execution_count": 19,
   "id": "88bf7a2c",
   "metadata": {},
   "outputs": [
    {
     "data": {
      "text/plain": [
       "<Image layer 'test2' at 0x240983dc688>"
      ]
     },
     "execution_count": 19,
     "metadata": {},
     "output_type": "execute_result"
    }
   ],
   "source": [
    "viewer=napari.Viewer()\n",
    "viewer.theme='light'\n",
    "viewer.add_image(figimg2,blending='opaque',interpolation='bilinear',name='test2')"
   ]
  },
  {
   "cell_type": "code",
   "execution_count": 20,
   "id": "6edf9d16",
   "metadata": {},
   "outputs": [],
   "source": [
    "gate2=viewer.layers[-1].data[0]\n",
    "ingate2,xcoords2,ycoords2=gfc.plotGateContains(fcsdf2['Acceptor'],fcsdf2['FRET'],gate2,limits=[1.0,2500.0,-0.2,1.0],logs=[True,False])"
   ]
  },
  {
   "cell_type": "code",
   "execution_count": 21,
   "id": "3172edff",
   "metadata": {},
   "outputs": [
    {
     "data": {
      "image/png": "[encoded data removed]",
      "text/plain": [
       "<Figure size 432x288 with 1 Axes>"
      ]
     },
     "metadata": {
      "needs_background": "light"
     },
     "output_type": "display_data"
    }
   ],
   "source": [
    "#plot our coordinates with the gated values highlighted\n",
    "plt.scatter(xcoords2,ycoords2)\n",
    "plt.scatter(xcoords2[ingate2],ycoords2[ingate2],s=8)\n",
    "plt.xlim(0,1080)\n",
    "plt.ylim(0,1080)\n",
    "plt.show()"
   ]
  },
  {
   "cell_type": "code",
   "execution_count": null,
   "id": "e572952a",
   "metadata": {},
   "outputs": [],
   "source": []
  }
 ],
 "metadata": {
  "kernelspec": {
   "display_name": "naparienv",
   "language": "python",
   "name": "naparienv"
  },
  "language_info": {
   "codemirror_mode": {
    "name": "ipython",
    "version": 3
   },
   "file_extension": ".py",
   "mimetype": "text/x-python",
   "name": "python",
   "nbconvert_exporter": "python",
   "pygments_lexer": "ipython3",
   "version": "3.7.10"
  }
 },
 "nbformat": 4,
 "nbformat_minor": 5
}
