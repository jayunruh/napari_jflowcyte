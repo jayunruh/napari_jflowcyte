{
 "cells": [
  {
   "cell_type": "code",
   "execution_count": 1,
   "id": "be5274b2",
   "metadata": {},
   "outputs": [],
   "source": [
    "import sys\n",
    "sys.path.append('../')\n",
    "import compensateflowcyte as cfc\n",
    "import gateflowcyte as gfc\n",
    "import matplotlib.pyplot as plt\n",
    "import pandas as pd\n",
    "import numpy as np\n",
    "import glob"
   ]
  },
  {
   "cell_type": "code",
   "execution_count": 2,
   "id": "de7005b0",
   "metadata": {},
   "outputs": [],
   "source": [
    "#here's all of our gate coordinates\n",
    "fcsdir='./hek_data/'\n",
    "scattergate=np.array([[779.51181557, 482.18892646],\n",
    "       [730.96930496, 977.72705569],\n",
    "       [300.15452322, 983.79486952],\n",
    "       [306.22233705, 488.25674029]])\n",
    "scgate=np.array([[621.74865606, 461.96288037],\n",
    "       [617.70344685, 900.86808055],\n",
    "       [283.97368635, 898.84547594],\n",
    "       [285.99629095, 453.87246194]])\n",
    "scgate2=np.array([[385.1039168 , 680.40417816],\n",
    "       [906.93590595, 815.91868696],\n",
    "       [898.84548751, 435.66902045],\n",
    "       [585.3417731 , 425.55599741],\n",
    "       [399.26214906, 506.46018177]])\n",
    "expgate=np.array([[ 502.41498413,  538.82185552],\n",
    "       [ 690.51721277,  474.09850803],\n",
    "       [ 730.96930496,  520.61841404],\n",
    "       [ 520.61842561,  795.69264087],\n",
    "       [ 259.70243104, 1020.20175248],\n",
    "       [ 178.79824667, 1008.06612483],\n",
    "       [ 201.04689737,  791.64743166]])"
   ]
  },
  {
   "cell_type": "code",
   "execution_count": 11,
   "id": "691170a5",
   "metadata": {},
   "outputs": [],
   "source": [
    "#this function gathers all of the gating steps from the compensate_gate_hek file into one function\n",
    "def gateHEKFile(fdir,fname,outdir):\n",
    "    print(fname)\n",
    "    comp,cmeta=cfc.getCompensated(fdir+fname)\n",
    "    inscatgate,_,_=gfc.plotGateContains(comp['FS00-H'],comp['SS02-H'],scattergate,limits=[1e7,1e9,1e7,1e9],logs=[True,True])\n",
    "    fgate=(np.array(inscatgate).sum()/len(inscatgate))\n",
    "    print(str(fgate*100)+'% scatter gate')\n",
    "    #here we could draw the histogram with the gate for reference\n",
    "    #fig,_=gfc.drawHistGate(comp,'FS00-H','SS02-H',limits=[1e7,1e9,1e7,1e9],logs=[True,True],scatgate)\n",
    "    #fig.savefig(outdir+fname[:-4]+'_scattergate.png')\n",
    "    inscgate,_,_=gfc.plotGateContains(comp['FS00-W'],comp['FS00-H'],scgate,limits=[2e8,5e9,1e6,2e9],logs=[True,True])\n",
    "    fgate=(np.array(inscgate).sum()/len(inscgate))\n",
    "    print(str(fgate*100)+'% single cell gate')\n",
    "    insc2gate,_,_=gfc.plotGateContains(comp['SS02-W'],comp['SS02-H'],scgate2,limits=[1e8,5e9,1e7,5e9],logs=[True,True])\n",
    "    fgate=(np.array(insc2gate).sum()/len(insc2gate))\n",
    "    print(str(fgate*100)+'% single cell2 gate')\n",
    "    inexpgate,_,_=gfc.plotGateContains(comp['FL03-A'],comp['FL10-A'],expgate,limits=[2e4,5e9,5e3,5e9],logs=[True,True])\n",
    "    fgate=(np.array(inexpgate).sum()/len(inexpgate))\n",
    "    print(str(fgate*100)+'% expressing gate')\n",
    "    inallgates=np.array(inscatgate) & np.array(inscgate) & np.array(insc2gate) & np.array(inexpgate)\n",
    "    gated=comp[inallgates].copy()\n",
    "    #part 2 calculates the FRET so no need here\n",
    "    #gated['FRET']=gated['FL04-A']/gated['FL10-A']\n",
    "    #gated['Acceptor']=gated['FL10-A']/1000000.0\n",
    "    cfc.saveDF(outdir+fname,gated,cmeta)"
   ]
  },
  {
   "cell_type": "code",
   "execution_count": 10,
   "id": "5d86811d",
   "metadata": {},
   "outputs": [
    {
     "name": "stdout",
     "output_type": "stream",
     "text": [
      "['A1.fcs', 'A10.fcs', 'A11.fcs', 'A12.fcs', 'A2.fcs', 'A3.fcs', 'A4.fcs', 'A5.fcs', 'A6.fcs', 'A7.fcs', 'A8.fcs', 'A9.fcs', 'B1.fcs', 'B2.fcs', 'B3.fcs']\n"
     ]
    }
   ],
   "source": [
    "#get the file name list for all fcs files\n",
    "flist=[glob.os.path.basename(fname) for fname in glob.glob(fcsdir+'*.fcs')]\n",
    "print(flist)"
   ]
  },
  {
   "cell_type": "code",
   "execution_count": 13,
   "id": "8dddd69d",
   "metadata": {},
   "outputs": [
    {
     "name": "stdout",
     "output_type": "stream",
     "text": [
      "A1.fcs\n",
      "FCS3.1\n",
      "[58, 3596, 3597, 14212477, 0, 0]\n",
      "5\n",
      "6.479328419973989% scatter gate\n",
      "7.5458164190281005% single cell gate\n",
      "6.128561857092184% single cell2 gate\n"
     ]
    },
    {
     "name": "stderr",
     "output_type": "stream",
     "text": [
      "C:\\Users\\jru\\Miniconda3\\envs\\naparienv\\lib\\site-packages\\pandas\\core\\arraylike.py:358: RuntimeWarning: invalid value encountered in log\n",
      "  result = getattr(ufunc, method)(*inputs, **kwargs)\n",
      "C:\\Users\\jru\\Miniconda3\\envs\\naparienv\\lib\\site-packages\\pandas\\core\\arraylike.py:358: RuntimeWarning: invalid value encountered in log\n",
      "  result = getattr(ufunc, method)(*inputs, **kwargs)\n"
     ]
    },
    {
     "name": "stdout",
     "output_type": "stream",
     "text": [
      "6.272809679580657% expressing gate\n",
      "A10.fcs\n",
      "FCS3.1\n",
      "[58, 3598, 3599, 23806847, 0, 0]\n",
      "5\n",
      "16.385999087183396% scatter gate\n",
      "18.537234918528767% single cell gate\n",
      "14.758927017018856% single cell2 gate\n"
     ]
    },
    {
     "name": "stderr",
     "output_type": "stream",
     "text": [
      "C:\\Users\\jru\\Miniconda3\\envs\\naparienv\\lib\\site-packages\\pandas\\core\\arraylike.py:358: RuntimeWarning: invalid value encountered in log\n",
      "  result = getattr(ufunc, method)(*inputs, **kwargs)\n",
      "C:\\Users\\jru\\Miniconda3\\envs\\naparienv\\lib\\site-packages\\pandas\\core\\arraylike.py:358: RuntimeWarning: invalid value encountered in log\n",
      "  result = getattr(ufunc, method)(*inputs, **kwargs)\n"
     ]
    },
    {
     "name": "stdout",
     "output_type": "stream",
     "text": [
      "14.037143166344357% expressing gate\n",
      "A11.fcs\n",
      "FCS3.1\n",
      "[58, 3598, 3599, 24068367, 0, 0]\n",
      "5\n",
      "15.620578598555365% scatter gate\n",
      "18.09423635415891% single cell gate\n",
      "14.726990096060764% single cell2 gate\n"
     ]
    },
    {
     "name": "stderr",
     "output_type": "stream",
     "text": [
      "C:\\Users\\jru\\Miniconda3\\envs\\naparienv\\lib\\site-packages\\pandas\\core\\arraylike.py:358: RuntimeWarning: invalid value encountered in log\n",
      "  result = getattr(ufunc, method)(*inputs, **kwargs)\n",
      "C:\\Users\\jru\\Miniconda3\\envs\\naparienv\\lib\\site-packages\\pandas\\core\\arraylike.py:358: RuntimeWarning: invalid value encountered in log\n",
      "  result = getattr(ufunc, method)(*inputs, **kwargs)\n"
     ]
    },
    {
     "name": "stdout",
     "output_type": "stream",
     "text": [
      "13.41127410827314% expressing gate\n",
      "A12.fcs\n",
      "FCS3.1\n",
      "[58, 3598, 3599, 21732943, 0, 0]\n",
      "5\n",
      "16.739686204977012% scatter gate\n",
      "18.97047605302765% single cell gate\n",
      "15.2052450363895% single cell2 gate\n"
     ]
    },
    {
     "name": "stderr",
     "output_type": "stream",
     "text": [
      "C:\\Users\\jru\\Miniconda3\\envs\\naparienv\\lib\\site-packages\\pandas\\core\\arraylike.py:358: RuntimeWarning: invalid value encountered in log\n",
      "  result = getattr(ufunc, method)(*inputs, **kwargs)\n",
      "C:\\Users\\jru\\Miniconda3\\envs\\naparienv\\lib\\site-packages\\pandas\\core\\arraylike.py:358: RuntimeWarning: invalid value encountered in log\n",
      "  result = getattr(ufunc, method)(*inputs, **kwargs)\n"
     ]
    },
    {
     "name": "stdout",
     "output_type": "stream",
     "text": [
      "14.473846978537411% expressing gate\n",
      "A2.fcs\n",
      "FCS3.1\n",
      "[58, 3596, 3597, 16994669, 0, 0]\n",
      "5\n",
      "9.928414169512083% scatter gate\n",
      "11.240821061790568% single cell gate\n",
      "9.196076621887071% single cell2 gate\n"
     ]
    },
    {
     "name": "stderr",
     "output_type": "stream",
     "text": [
      "C:\\Users\\jru\\Miniconda3\\envs\\naparienv\\lib\\site-packages\\pandas\\core\\arraylike.py:358: RuntimeWarning: invalid value encountered in log\n",
      "  result = getattr(ufunc, method)(*inputs, **kwargs)\n",
      "C:\\Users\\jru\\Miniconda3\\envs\\naparienv\\lib\\site-packages\\pandas\\core\\arraylike.py:358: RuntimeWarning: invalid value encountered in log\n",
      "  result = getattr(ufunc, method)(*inputs, **kwargs)\n"
     ]
    },
    {
     "name": "stdout",
     "output_type": "stream",
     "text": [
      "8.995029860387856% expressing gate\n",
      "A3.fcs\n",
      "FCS3.1\n",
      "[58, 3596, 3597, 15471917, 0, 0]\n",
      "5\n"
     ]
    },
    {
     "name": "stderr",
     "output_type": "stream",
     "text": [
      "C:\\Users\\jru\\Miniconda3\\envs\\naparienv\\lib\\site-packages\\pandas\\core\\arraylike.py:358: RuntimeWarning: divide by zero encountered in log\n",
      "  result = getattr(ufunc, method)(*inputs, **kwargs)\n",
      "C:\\Users\\jru\\Miniconda3\\envs\\naparienv\\lib\\site-packages\\pandas\\core\\arraylike.py:358: RuntimeWarning: divide by zero encountered in log\n",
      "  result = getattr(ufunc, method)(*inputs, **kwargs)\n"
     ]
    },
    {
     "name": "stdout",
     "output_type": "stream",
     "text": [
      "9.994207515748316% scatter gate\n"
     ]
    },
    {
     "name": "stderr",
     "output_type": "stream",
     "text": [
      "C:\\Users\\jru\\Miniconda3\\envs\\naparienv\\lib\\site-packages\\pandas\\core\\arraylike.py:358: RuntimeWarning: divide by zero encountered in log\n",
      "  result = getattr(ufunc, method)(*inputs, **kwargs)\n",
      "C:\\Users\\jru\\Miniconda3\\envs\\naparienv\\lib\\site-packages\\pandas\\core\\arraylike.py:358: RuntimeWarning: divide by zero encountered in log\n",
      "  result = getattr(ufunc, method)(*inputs, **kwargs)\n"
     ]
    },
    {
     "name": "stdout",
     "output_type": "stream",
     "text": [
      "11.323582651509666% single cell gate\n"
     ]
    },
    {
     "name": "stderr",
     "output_type": "stream",
     "text": [
      "C:\\Users\\jru\\Miniconda3\\envs\\naparienv\\lib\\site-packages\\pandas\\core\\arraylike.py:358: RuntimeWarning: divide by zero encountered in log\n",
      "  result = getattr(ufunc, method)(*inputs, **kwargs)\n",
      "C:\\Users\\jru\\Miniconda3\\envs\\naparienv\\lib\\site-packages\\pandas\\core\\arraylike.py:358: RuntimeWarning: divide by zero encountered in log\n",
      "  result = getattr(ufunc, method)(*inputs, **kwargs)\n"
     ]
    },
    {
     "name": "stdout",
     "output_type": "stream",
     "text": [
      "9.31214249511259% single cell2 gate\n"
     ]
    },
    {
     "name": "stderr",
     "output_type": "stream",
     "text": [
      "C:\\Users\\jru\\Miniconda3\\envs\\naparienv\\lib\\site-packages\\pandas\\core\\arraylike.py:358: RuntimeWarning: divide by zero encountered in log\n",
      "  result = getattr(ufunc, method)(*inputs, **kwargs)\n",
      "C:\\Users\\jru\\Miniconda3\\envs\\naparienv\\lib\\site-packages\\pandas\\core\\arraylike.py:358: RuntimeWarning: invalid value encountered in log\n",
      "  result = getattr(ufunc, method)(*inputs, **kwargs)\n",
      "C:\\Users\\jru\\Miniconda3\\envs\\naparienv\\lib\\site-packages\\pandas\\core\\arraylike.py:358: RuntimeWarning: divide by zero encountered in log\n",
      "  result = getattr(ufunc, method)(*inputs, **kwargs)\n",
      "C:\\Users\\jru\\Miniconda3\\envs\\naparienv\\lib\\site-packages\\pandas\\core\\arraylike.py:358: RuntimeWarning: invalid value encountered in log\n",
      "  result = getattr(ufunc, method)(*inputs, **kwargs)\n"
     ]
    },
    {
     "name": "stdout",
     "output_type": "stream",
     "text": [
      "8.959525016291362% expressing gate\n",
      "A4.fcs\n",
      "FCS3.1\n",
      "[58, 3596, 3597, 27410557, 0, 0]\n",
      "5\n"
     ]
    },
    {
     "name": "stderr",
     "output_type": "stream",
     "text": [
      "C:\\Users\\jru\\Miniconda3\\envs\\naparienv\\lib\\site-packages\\pandas\\core\\arraylike.py:358: RuntimeWarning: divide by zero encountered in log\n",
      "  result = getattr(ufunc, method)(*inputs, **kwargs)\n",
      "C:\\Users\\jru\\Miniconda3\\envs\\naparienv\\lib\\site-packages\\pandas\\core\\arraylike.py:358: RuntimeWarning: divide by zero encountered in log\n",
      "  result = getattr(ufunc, method)(*inputs, **kwargs)\n"
     ]
    },
    {
     "name": "stdout",
     "output_type": "stream",
     "text": [
      "16.550949101979935% scatter gate\n"
     ]
    },
    {
     "name": "stderr",
     "output_type": "stream",
     "text": [
      "C:\\Users\\jru\\Miniconda3\\envs\\naparienv\\lib\\site-packages\\pandas\\core\\arraylike.py:358: RuntimeWarning: divide by zero encountered in log\n",
      "  result = getattr(ufunc, method)(*inputs, **kwargs)\n",
      "C:\\Users\\jru\\Miniconda3\\envs\\naparienv\\lib\\site-packages\\pandas\\core\\arraylike.py:358: RuntimeWarning: divide by zero encountered in log\n",
      "  result = getattr(ufunc, method)(*inputs, **kwargs)\n"
     ]
    },
    {
     "name": "stdout",
     "output_type": "stream",
     "text": [
      "18.38335955538301% single cell gate\n"
     ]
    },
    {
     "name": "stderr",
     "output_type": "stream",
     "text": [
      "C:\\Users\\jru\\Miniconda3\\envs\\naparienv\\lib\\site-packages\\pandas\\core\\arraylike.py:358: RuntimeWarning: divide by zero encountered in log\n",
      "  result = getattr(ufunc, method)(*inputs, **kwargs)\n",
      "C:\\Users\\jru\\Miniconda3\\envs\\naparienv\\lib\\site-packages\\pandas\\core\\arraylike.py:358: RuntimeWarning: divide by zero encountered in log\n",
      "  result = getattr(ufunc, method)(*inputs, **kwargs)\n"
     ]
    },
    {
     "name": "stdout",
     "output_type": "stream",
     "text": [
      "14.977626121248033% single cell2 gate\n"
     ]
    },
    {
     "name": "stderr",
     "output_type": "stream",
     "text": [
      "C:\\Users\\jru\\Miniconda3\\envs\\naparienv\\lib\\site-packages\\pandas\\core\\arraylike.py:358: RuntimeWarning: divide by zero encountered in log\n",
      "  result = getattr(ufunc, method)(*inputs, **kwargs)\n",
      "C:\\Users\\jru\\Miniconda3\\envs\\naparienv\\lib\\site-packages\\pandas\\core\\arraylike.py:358: RuntimeWarning: invalid value encountered in log\n",
      "  result = getattr(ufunc, method)(*inputs, **kwargs)\n",
      "C:\\Users\\jru\\Miniconda3\\envs\\naparienv\\lib\\site-packages\\pandas\\core\\arraylike.py:358: RuntimeWarning: divide by zero encountered in log\n",
      "  result = getattr(ufunc, method)(*inputs, **kwargs)\n",
      "C:\\Users\\jru\\Miniconda3\\envs\\naparienv\\lib\\site-packages\\pandas\\core\\arraylike.py:358: RuntimeWarning: invalid value encountered in log\n",
      "  result = getattr(ufunc, method)(*inputs, **kwargs)\n"
     ]
    },
    {
     "name": "stdout",
     "output_type": "stream",
     "text": [
      "11.16282871212276% expressing gate\n",
      "A5.fcs\n",
      "FCS3.1\n",
      "[58, 3596, 3597, 32570061, 0, 0]\n",
      "5\n"
     ]
    },
    {
     "name": "stderr",
     "output_type": "stream",
     "text": [
      "C:\\Users\\jru\\Miniconda3\\envs\\naparienv\\lib\\site-packages\\pandas\\core\\arraylike.py:358: RuntimeWarning: divide by zero encountered in log\n",
      "  result = getattr(ufunc, method)(*inputs, **kwargs)\n",
      "C:\\Users\\jru\\Miniconda3\\envs\\naparienv\\lib\\site-packages\\pandas\\core\\arraylike.py:358: RuntimeWarning: divide by zero encountered in log\n",
      "  result = getattr(ufunc, method)(*inputs, **kwargs)\n"
     ]
    },
    {
     "name": "stdout",
     "output_type": "stream",
     "text": [
      "14.867662636017224% scatter gate\n"
     ]
    },
    {
     "name": "stderr",
     "output_type": "stream",
     "text": [
      "C:\\Users\\jru\\Miniconda3\\envs\\naparienv\\lib\\site-packages\\pandas\\core\\arraylike.py:358: RuntimeWarning: divide by zero encountered in log\n",
      "  result = getattr(ufunc, method)(*inputs, **kwargs)\n",
      "C:\\Users\\jru\\Miniconda3\\envs\\naparienv\\lib\\site-packages\\pandas\\core\\arraylike.py:358: RuntimeWarning: divide by zero encountered in log\n",
      "  result = getattr(ufunc, method)(*inputs, **kwargs)\n"
     ]
    },
    {
     "name": "stdout",
     "output_type": "stream",
     "text": [
      "16.650158887375678% single cell gate\n"
     ]
    },
    {
     "name": "stderr",
     "output_type": "stream",
     "text": [
      "C:\\Users\\jru\\Miniconda3\\envs\\naparienv\\lib\\site-packages\\pandas\\core\\arraylike.py:358: RuntimeWarning: divide by zero encountered in log\n",
      "  result = getattr(ufunc, method)(*inputs, **kwargs)\n",
      "C:\\Users\\jru\\Miniconda3\\envs\\naparienv\\lib\\site-packages\\pandas\\core\\arraylike.py:358: RuntimeWarning: divide by zero encountered in log\n",
      "  result = getattr(ufunc, method)(*inputs, **kwargs)\n"
     ]
    },
    {
     "name": "stdout",
     "output_type": "stream",
     "text": [
      "13.570426313400189% single cell2 gate\n"
     ]
    },
    {
     "name": "stderr",
     "output_type": "stream",
     "text": [
      "C:\\Users\\jru\\Miniconda3\\envs\\naparienv\\lib\\site-packages\\pandas\\core\\arraylike.py:358: RuntimeWarning: divide by zero encountered in log\n",
      "  result = getattr(ufunc, method)(*inputs, **kwargs)\n",
      "C:\\Users\\jru\\Miniconda3\\envs\\naparienv\\lib\\site-packages\\pandas\\core\\arraylike.py:358: RuntimeWarning: invalid value encountered in log\n",
      "  result = getattr(ufunc, method)(*inputs, **kwargs)\n",
      "C:\\Users\\jru\\Miniconda3\\envs\\naparienv\\lib\\site-packages\\pandas\\core\\arraylike.py:358: RuntimeWarning: divide by zero encountered in log\n",
      "  result = getattr(ufunc, method)(*inputs, **kwargs)\n",
      "C:\\Users\\jru\\Miniconda3\\envs\\naparienv\\lib\\site-packages\\pandas\\core\\arraylike.py:358: RuntimeWarning: invalid value encountered in log\n",
      "  result = getattr(ufunc, method)(*inputs, **kwargs)\n"
     ]
    },
    {
     "name": "stdout",
     "output_type": "stream",
     "text": [
      "10.03466633651108% expressing gate\n",
      "A6.fcs\n",
      "FCS3.1\n",
      "[58, 3596, 3597, 27510797, 0, 0]\n",
      "5\n",
      "17.389250814332247% scatter gate\n",
      "19.3163680781759% single cell gate\n",
      "15.651058631921824% single cell2 gate\n"
     ]
    },
    {
     "name": "stderr",
     "output_type": "stream",
     "text": [
      "C:\\Users\\jru\\Miniconda3\\envs\\naparienv\\lib\\site-packages\\pandas\\core\\arraylike.py:358: RuntimeWarning: invalid value encountered in log\n",
      "  result = getattr(ufunc, method)(*inputs, **kwargs)\n",
      "C:\\Users\\jru\\Miniconda3\\envs\\naparienv\\lib\\site-packages\\pandas\\core\\arraylike.py:358: RuntimeWarning: invalid value encountered in log\n",
      "  result = getattr(ufunc, method)(*inputs, **kwargs)\n"
     ]
    },
    {
     "name": "stdout",
     "output_type": "stream",
     "text": [
      "11.555374592833877% expressing gate\n",
      "A7.fcs\n",
      "FCS3.1\n",
      "[58, 3596, 3597, 22301229, 0, 0]\n",
      "5\n",
      "15.78664496750148% scatter gate\n",
      "17.75765247179611% single cell gate\n",
      "14.317430658107552% single cell2 gate\n"
     ]
    },
    {
     "name": "stderr",
     "output_type": "stream",
     "text": [
      "C:\\Users\\jru\\Miniconda3\\envs\\naparienv\\lib\\site-packages\\pandas\\core\\arraylike.py:358: RuntimeWarning: invalid value encountered in log\n",
      "  result = getattr(ufunc, method)(*inputs, **kwargs)\n",
      "C:\\Users\\jru\\Miniconda3\\envs\\naparienv\\lib\\site-packages\\pandas\\core\\arraylike.py:358: RuntimeWarning: invalid value encountered in log\n",
      "  result = getattr(ufunc, method)(*inputs, **kwargs)\n"
     ]
    },
    {
     "name": "stdout",
     "output_type": "stream",
     "text": [
      "10.833509136754971% expressing gate\n",
      "A8.fcs\n",
      "FCS3.1\n",
      "[58, 3596, 3597, 22922269, 0, 0]\n",
      "5\n",
      "16.695417605348165% scatter gate\n",
      "18.646734854445317% single cell gate\n",
      "14.810072765123564% single cell2 gate\n"
     ]
    },
    {
     "name": "stderr",
     "output_type": "stream",
     "text": [
      "C:\\Users\\jru\\Miniconda3\\envs\\naparienv\\lib\\site-packages\\pandas\\core\\arraylike.py:358: RuntimeWarning: invalid value encountered in log\n",
      "  result = getattr(ufunc, method)(*inputs, **kwargs)\n",
      "C:\\Users\\jru\\Miniconda3\\envs\\naparienv\\lib\\site-packages\\pandas\\core\\arraylike.py:358: RuntimeWarning: invalid value encountered in log\n",
      "  result = getattr(ufunc, method)(*inputs, **kwargs)\n"
     ]
    },
    {
     "name": "stdout",
     "output_type": "stream",
     "text": [
      "11.439127013991039% expressing gate\n",
      "A9.fcs\n",
      "FCS3.1\n",
      "[58, 3596, 3597, 21361101, 0, 0]\n",
      "5\n",
      "17.399786042413943% scatter gate\n",
      "19.33799005726512% single cell gate\n",
      "15.51612023577287% single cell2 gate\n"
     ]
    },
    {
     "name": "stderr",
     "output_type": "stream",
     "text": [
      "C:\\Users\\jru\\Miniconda3\\envs\\naparienv\\lib\\site-packages\\pandas\\core\\arraylike.py:358: RuntimeWarning: invalid value encountered in log\n",
      "  result = getattr(ufunc, method)(*inputs, **kwargs)\n",
      "C:\\Users\\jru\\Miniconda3\\envs\\naparienv\\lib\\site-packages\\pandas\\core\\arraylike.py:358: RuntimeWarning: invalid value encountered in log\n",
      "  result = getattr(ufunc, method)(*inputs, **kwargs)\n"
     ]
    },
    {
     "name": "stdout",
     "output_type": "stream",
     "text": [
      "11.715751054055755% expressing gate\n",
      "B1.fcs\n",
      "FCS3.1\n",
      "[58, 3596, 3597, 23400397, 0, 0]\n",
      "5\n",
      "16.154619435136432% scatter gate\n",
      "18.171852561033987% single cell gate\n",
      "14.240306366682622% single cell2 gate\n"
     ]
    },
    {
     "name": "stderr",
     "output_type": "stream",
     "text": [
      "C:\\Users\\jru\\Miniconda3\\envs\\naparienv\\lib\\site-packages\\pandas\\core\\arraylike.py:358: RuntimeWarning: invalid value encountered in log\n",
      "  result = getattr(ufunc, method)(*inputs, **kwargs)\n",
      "C:\\Users\\jru\\Miniconda3\\envs\\naparienv\\lib\\site-packages\\pandas\\core\\arraylike.py:358: RuntimeWarning: invalid value encountered in log\n",
      "  result = getattr(ufunc, method)(*inputs, **kwargs)\n"
     ]
    },
    {
     "name": "stdout",
     "output_type": "stream",
     "text": [
      "12.665868836764002% expressing gate\n",
      "B2.fcs\n",
      "FCS3.1\n",
      "[58, 3596, 3597, 22848909, 0, 0]\n",
      "5\n",
      "16.574989214417382% scatter gate\n",
      "18.91791191120524% single cell gate\n",
      "14.922343805153549% single cell2 gate\n"
     ]
    },
    {
     "name": "stderr",
     "output_type": "stream",
     "text": [
      "C:\\Users\\jru\\Miniconda3\\envs\\naparienv\\lib\\site-packages\\pandas\\core\\arraylike.py:358: RuntimeWarning: invalid value encountered in log\n",
      "  result = getattr(ufunc, method)(*inputs, **kwargs)\n",
      "C:\\Users\\jru\\Miniconda3\\envs\\naparienv\\lib\\site-packages\\pandas\\core\\arraylike.py:358: RuntimeWarning: invalid value encountered in log\n",
      "  result = getattr(ufunc, method)(*inputs, **kwargs)\n"
     ]
    },
    {
     "name": "stdout",
     "output_type": "stream",
     "text": [
      "13.106934149115581% expressing gate\n",
      "B3.fcs\n",
      "FCS3.1\n",
      "[58, 3596, 3597, 23696077, 0, 0]\n",
      "5\n",
      "16.2404273423466% scatter gate\n",
      "18.47688380448142% single cell gate\n",
      "14.623711827550345% single cell2 gate\n"
     ]
    },
    {
     "name": "stderr",
     "output_type": "stream",
     "text": [
      "C:\\Users\\jru\\Miniconda3\\envs\\naparienv\\lib\\site-packages\\pandas\\core\\arraylike.py:358: RuntimeWarning: invalid value encountered in log\n",
      "  result = getattr(ufunc, method)(*inputs, **kwargs)\n",
      "C:\\Users\\jru\\Miniconda3\\envs\\naparienv\\lib\\site-packages\\pandas\\core\\arraylike.py:358: RuntimeWarning: invalid value encountered in log\n",
      "  result = getattr(ufunc, method)(*inputs, **kwargs)\n"
     ]
    },
    {
     "name": "stdout",
     "output_type": "stream",
     "text": [
      "12.72336201191264% expressing gate\n"
     ]
    }
   ],
   "source": [
    "for i in range(len(flist)):\n",
    "    gateHEKFile(fcsdir,flist[i],'./hek_compensated/')"
   ]
  },
  {
   "cell_type": "code",
   "execution_count": null,
   "id": "00d4367e",
   "metadata": {},
   "outputs": [],
   "source": []
  }
 ],
 "metadata": {
  "kernelspec": {
   "display_name": "naparienv",
   "language": "python",
   "name": "naparienv"
  },
  "language_info": {
   "codemirror_mode": {
    "name": "ipython",
    "version": 3
   },
   "file_extension": ".py",
   "mimetype": "text/x-python",
   "name": "python",
   "nbconvert_exporter": "python",
   "pygments_lexer": "ipython3",
   "version": "3.7.10"
  }
 },
 "nbformat": 4,
 "nbformat_minor": 5
}
